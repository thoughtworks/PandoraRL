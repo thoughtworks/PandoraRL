{
 "cells": [
  {
   "cell_type": "markdown",
   "metadata": {},
   "source": [
    "# Reinforcement Learning based Virtual Screening\n",
    "Protein-Ligan pose prediction using RL\n",
    "\n",
    "## Spatial block arrangement using RL CNN-DQN\n",
    "__Input__\n",
    "- Sandbox with block and the surface placemnt\n",
    "\n",
    "__Output__\n",
    "- <x, y, $\\theta$> for block wrt Sandbox"
   ]
  },
  {
   "cell_type": "code",
   "execution_count": null,
   "metadata": {
    "scrolled": true
   },
   "outputs": [],
   "source": [
    "from block_world.env import Env\n",
    "from agents.ddpg_agent import DDPGAgent\n",
    "from matplotlib import pyplot as plt\n",
    "import numpy as np"
   ]
  },
  {
   "cell_type": "markdown",
   "metadata": {},
   "source": [
    "### Generating the sandbox\n",
    "The block world generates a block and places it in the surface by randomizing <x, y, $\\theta$>. The $\\theta$ rotated block is stored in the _block_ property of the Block class.\n",
    "\n",
    "Both the block and the surface are combined together into a single sandbox image. (More here)"
   ]
  },
  {
   "cell_type": "code",
   "execution_count": null,
   "metadata": {
    "scrolled": true
   },
   "outputs": [],
   "source": [
    "env = Env()\n",
    "fig, (ax1, ax2) = plt.subplots(1, 2, figsize=(10, 20))\n",
    "ax1.imshow(env.block.sandbox)\n",
    "ax2.imshow(env.block.original_sandbox)\n",
    "plt.show()"
   ]
  },
  {
   "cell_type": "code",
   "execution_count": null,
   "metadata": {},
   "outputs": [],
   "source": [
    "block = env.block\n",
    "env.block.update_sandbox(block.shift_x - block.block_x-1, block.shift_y - block.block_y -1, 0)\n",
    "fig, (ax1, ax2) = plt.subplots(1, 2, figsize=(10, 20))\n",
    "ax1.imshow(env.block.sandbox)\n",
    "ax2.imshow(env.block.original_sandbox)\n",
    "plt.show()"
   ]
  },
  {
   "cell_type": "code",
   "execution_count": null,
   "metadata": {
    "scrolled": true
   },
   "outputs": [],
   "source": [
    "print(env.block.distance(env.block.block_x, env.block.block_y, 0))"
   ]
  },
  {
   "cell_type": "code",
   "execution_count": null,
   "metadata": {
    "scrolled": true
   },
   "outputs": [],
   "source": [
    "xx = env.action_space.sample()\n",
    "env.block.block_x\n",
    "state, reward, t = env.step(xx)\n",
    "plt.imshow(env.block.sandbox)\n",
    "plt.show()\n",
    "print(reward, xx, env.action_space.action_bounds.shape)"
   ]
  },
  {
   "cell_type": "code",
   "execution_count": null,
   "metadata": {},
   "outputs": [],
   "source": [
    "block = env.block\n",
    "print(env.block.block_x, env.block.block_y, block.shift_x, block.shift_y, [block.shift_x- block.block_x, block.shift_y - block.block_y, block.rotate_angle])"
   ]
  },
  {
   "cell_type": "markdown",
   "metadata": {},
   "source": [
    "### Absolute Fit\n",
    "The absolute fit is when the block is placed square on top of the slot.\n",
    "\n",
    "\n",
    "  [block.shift_x- block.block_x, block.shift_y - block.block_y, block.rotate_angle]\n"
   ]
  },
  {
   "cell_type": "code",
   "execution_count": null,
   "metadata": {},
   "outputs": [],
   "source": [
    "block = env.block\n",
    "xx = [50, 50, -180]\n",
    "state, reward, t = env.step(xx)\n",
    "fig, (ax1, ax2) = plt.subplots(1, 2, figsize=(10, 20))\n",
    "ax1.imshow(env.block.sandbox)\n",
    "ax2.imshow(env.block.original_sandbox)\n",
    "print(reward, xx, env.action_space.action_bounds.shape)"
   ]
  },
  {
   "cell_type": "markdown",
   "metadata": {},
   "source": [
    "### Converting sandbox image to tensors for CNN consumption\n",
    "The sandbox image needs to be converted into an image consumable by the CNN"
   ]
  },
  {
   "cell_type": "code",
   "execution_count": null,
   "metadata": {
    "scrolled": true
   },
   "outputs": [
    {
     "name": "stderr",
     "output_type": "stream",
     "text": [
      "/Users/in-justin.jose/.miniconda/envs/rl-virtual-screening/lib/python3.6/site-packages/tensorflow/python/framework/dtypes.py:516: FutureWarning: Passing (type, 1) or '1type' as a synonym of type is deprecated; in a future version of numpy, it will be understood as (type, (1,)) / '(1,)type'.\n",
      "  _np_qint8 = np.dtype([(\"qint8\", np.int8, 1)])\n",
      "/Users/in-justin.jose/.miniconda/envs/rl-virtual-screening/lib/python3.6/site-packages/tensorflow/python/framework/dtypes.py:517: FutureWarning: Passing (type, 1) or '1type' as a synonym of type is deprecated; in a future version of numpy, it will be understood as (type, (1,)) / '(1,)type'.\n",
      "  _np_quint8 = np.dtype([(\"quint8\", np.uint8, 1)])\n",
      "/Users/in-justin.jose/.miniconda/envs/rl-virtual-screening/lib/python3.6/site-packages/tensorflow/python/framework/dtypes.py:518: FutureWarning: Passing (type, 1) or '1type' as a synonym of type is deprecated; in a future version of numpy, it will be understood as (type, (1,)) / '(1,)type'.\n",
      "  _np_qint16 = np.dtype([(\"qint16\", np.int16, 1)])\n",
      "/Users/in-justin.jose/.miniconda/envs/rl-virtual-screening/lib/python3.6/site-packages/tensorflow/python/framework/dtypes.py:519: FutureWarning: Passing (type, 1) or '1type' as a synonym of type is deprecated; in a future version of numpy, it will be understood as (type, (1,)) / '(1,)type'.\n",
      "  _np_quint16 = np.dtype([(\"quint16\", np.uint16, 1)])\n",
      "/Users/in-justin.jose/.miniconda/envs/rl-virtual-screening/lib/python3.6/site-packages/tensorflow/python/framework/dtypes.py:520: FutureWarning: Passing (type, 1) or '1type' as a synonym of type is deprecated; in a future version of numpy, it will be understood as (type, (1,)) / '(1,)type'.\n",
      "  _np_qint32 = np.dtype([(\"qint32\", np.int32, 1)])\n",
      "/Users/in-justin.jose/.miniconda/envs/rl-virtual-screening/lib/python3.6/site-packages/tensorflow/python/framework/dtypes.py:525: FutureWarning: Passing (type, 1) or '1type' as a synonym of type is deprecated; in a future version of numpy, it will be understood as (type, (1,)) / '(1,)type'.\n",
      "  np_resource = np.dtype([(\"resource\", np.ubyte, 1)])\n"
     ]
    },
    {
     "name": "stdout",
     "output_type": "stream",
     "text": [
      "WARNING:tensorflow:From /Users/in-justin.jose/.miniconda/envs/rl-virtual-screening/lib/python3.6/site-packages/keras/backend/tensorflow_backend.py:4070: The name tf.nn.max_pool is deprecated. Please use tf.nn.max_pool2d instead.\n",
      "\n"
     ]
    },
    {
     "name": "stderr",
     "output_type": "stream",
     "text": [
      "/Users/in-justin.jose/.miniconda/envs/rl-virtual-screening/lib/python3.6/site-packages/tensorboard/compat/tensorflow_stub/dtypes.py:541: FutureWarning: Passing (type, 1) or '1type' as a synonym of type is deprecated; in a future version of numpy, it will be understood as (type, (1,)) / '(1,)type'.\n",
      "  _np_qint8 = np.dtype([(\"qint8\", np.int8, 1)])\n",
      "/Users/in-justin.jose/.miniconda/envs/rl-virtual-screening/lib/python3.6/site-packages/tensorboard/compat/tensorflow_stub/dtypes.py:542: FutureWarning: Passing (type, 1) or '1type' as a synonym of type is deprecated; in a future version of numpy, it will be understood as (type, (1,)) / '(1,)type'.\n",
      "  _np_quint8 = np.dtype([(\"quint8\", np.uint8, 1)])\n",
      "/Users/in-justin.jose/.miniconda/envs/rl-virtual-screening/lib/python3.6/site-packages/tensorboard/compat/tensorflow_stub/dtypes.py:543: FutureWarning: Passing (type, 1) or '1type' as a synonym of type is deprecated; in a future version of numpy, it will be understood as (type, (1,)) / '(1,)type'.\n",
      "  _np_qint16 = np.dtype([(\"qint16\", np.int16, 1)])\n",
      "/Users/in-justin.jose/.miniconda/envs/rl-virtual-screening/lib/python3.6/site-packages/tensorboard/compat/tensorflow_stub/dtypes.py:544: FutureWarning: Passing (type, 1) or '1type' as a synonym of type is deprecated; in a future version of numpy, it will be understood as (type, (1,)) / '(1,)type'.\n",
      "  _np_quint16 = np.dtype([(\"quint16\", np.uint16, 1)])\n",
      "/Users/in-justin.jose/.miniconda/envs/rl-virtual-screening/lib/python3.6/site-packages/tensorboard/compat/tensorflow_stub/dtypes.py:545: FutureWarning: Passing (type, 1) or '1type' as a synonym of type is deprecated; in a future version of numpy, it will be understood as (type, (1,)) / '(1,)type'.\n",
      "  _np_qint32 = np.dtype([(\"qint32\", np.int32, 1)])\n",
      "/Users/in-justin.jose/.miniconda/envs/rl-virtual-screening/lib/python3.6/site-packages/tensorboard/compat/tensorflow_stub/dtypes.py:550: FutureWarning: Passing (type, 1) or '1type' as a synonym of type is deprecated; in a future version of numpy, it will be understood as (type, (1,)) / '(1,)type'.\n",
      "  np_resource = np.dtype([(\"resource\", np.ubyte, 1)])\n",
      "Using TensorFlow backend.\n",
      "/Users/in-justin.jose/Documents/Projects/E4R/rl-virtual-screening/rlvs/agents/network.py:103: UserWarning: Update your `Conv2D` call to the Keras 2 API: `Conv2D(64, (5, 5), activation=\"relu\")`\n",
      "  conv_model_1 = Conv2D(64, 5, 5,  activation='relu')(conv_model)\n",
      "/Users/in-justin.jose/Documents/Projects/E4R/rl-virtual-screening/rlvs/agents/network.py:104: UserWarning: Update your `Conv2D` call to the Keras 2 API: `Conv2D(64, (4, 4), activation=\"relu\")`\n",
      "  conv_model_1 = Conv2D(64, 4, 4,  activation='relu')(conv_model_1)\n",
      "/Users/in-justin.jose/Documents/Projects/E4R/rl-virtual-screening/rlvs/agents/network.py:105: UserWarning: Update your `Conv2D` call to the Keras 2 API: `Conv2D(64, (3, 3), activation=\"relu\")`\n",
      "  conv_model_1 = Conv2D(64, 3, 3,  activation='relu')(conv_model_1)\n"
     ]
    },
    {
     "name": "stdout",
     "output_type": "stream",
     "text": [
      "WARNING:tensorflow:From /Users/in-justin.jose/Documents/Projects/E4R/rl-virtual-screening/rlvs/agents/network.py:97: The name tf.train.AdamOptimizer is deprecated. Please use tf.compat.v1.train.AdamOptimizer instead.\n",
      "\n",
      "WARNING:tensorflow:From /Users/in-justin.jose/.miniconda/envs/rl-virtual-screening/lib/python3.6/site-packages/keras/backend/tensorflow_backend.py:422: The name tf.global_variables is deprecated. Please use tf.compat.v1.global_variables instead.\n",
      "\n",
      "WARNING:tensorflow:From /Users/in-justin.jose/.miniconda/envs/rl-virtual-screening/lib/python3.6/site-packages/keras/backend/tensorflow_backend.py:431: The name tf.is_variable_initialized is deprecated. Please use tf.compat.v1.is_variable_initialized instead.\n",
      "\n",
      "WARNING:tensorflow:From /Users/in-justin.jose/.miniconda/envs/rl-virtual-screening/lib/python3.6/site-packages/keras/backend/tensorflow_backend.py:438: The name tf.variables_initializer is deprecated. Please use tf.compat.v1.variables_initializer instead.\n",
      "\n"
     ]
    },
    {
     "name": "stderr",
     "output_type": "stream",
     "text": [
      "/Users/in-justin.jose/Documents/Projects/E4R/rl-virtual-screening/rlvs/agents/network.py:44: UserWarning: Update your `Conv2D` call to the Keras 2 API: `Conv2D(64, (5, 5), activation=\"relu\")`\n",
      "  conv_model_1 = Conv2D(64, 5, 5,  activation='relu')(conv_model)\n",
      "/Users/in-justin.jose/Documents/Projects/E4R/rl-virtual-screening/rlvs/agents/network.py:45: UserWarning: Update your `Conv2D` call to the Keras 2 API: `Conv2D(64, (4, 4), activation=\"relu\")`\n",
      "  conv_model_1 = Conv2D(64, 4, 4,  activation='relu')(conv_model_1)\n",
      "/Users/in-justin.jose/Documents/Projects/E4R/rl-virtual-screening/rlvs/agents/network.py:46: UserWarning: Update your `Conv2D` call to the Keras 2 API: `Conv2D(64, (3, 3), activation=\"relu\")`\n",
      "  conv_model_1 = Conv2D(64, 3, 3,  activation='relu')(conv_model_1)\n"
     ]
    },
    {
     "name": "stdout",
     "output_type": "stream",
     "text": [
      "False [ 0.         -1.         -0.86101228] 0 1 [44, 11, 148.86101227998734, 28, 32, 73.74879720914709]\n"
     ]
    },
    {
     "name": "stderr",
     "output_type": "stream",
     "text": [
      "/Users/in-justin.jose/Documents/Projects/E4R/rl-virtual-screening/rlvs/agents/network.py:123: VisibleDeprecationWarning: Creating an ndarray from ragged nested sequences (which is a list-or-tuple of lists-or-tuples-or ndarrays with different lengths or shapes) is deprecated. If you meant to do this, you must specify 'dtype=object' when creating the ndarray\n",
      "  actor_weights = np.array(self.actor_target.get_weights())\n",
      "/Users/in-justin.jose/Documents/Projects/E4R/rl-virtual-screening/rlvs/agents/network.py:124: VisibleDeprecationWarning: Creating an ndarray from ragged nested sequences (which is a list-or-tuple of lists-or-tuples-or ndarrays with different lengths or shapes) is deprecated. If you meant to do this, you must specify 'dtype=object' when creating the ndarray\n",
      "  target_weights = np.array(self.actor.get_weights())\n",
      "/Users/in-justin.jose/Documents/Projects/E4R/rl-virtual-screening/rlvs/agents/network.py:29: VisibleDeprecationWarning: Creating an ndarray from ragged nested sequences (which is a list-or-tuple of lists-or-tuples-or ndarrays with different lengths or shapes) is deprecated. If you meant to do this, you must specify 'dtype=object' when creating the ndarray\n",
      "  model_weights = np.array(self.critic.get_weights())\n",
      "/Users/in-justin.jose/Documents/Projects/E4R/rl-virtual-screening/rlvs/agents/network.py:30: VisibleDeprecationWarning: Creating an ndarray from ragged nested sequences (which is a list-or-tuple of lists-or-tuples-or ndarrays with different lengths or shapes) is deprecated. If you meant to do this, you must specify 'dtype=object' when creating the ndarray\n",
      "  target_weights = np.array(self.critic_target.get_weights())\n"
     ]
    },
    {
     "name": "stdout",
     "output_type": "stream",
     "text": [
      "False [ 0.         -2.         -0.47330749] 0.20152237003318252 2 [44, 9, 149.33431977033615, 28, 32, 72.5306547237095]\n",
      "False [ 0.         -1.         -2.07675457] 0 3 [44, 8, 151.41107434034348, 28, 32, 72.71871964082193]\n",
      "False [-0.         -2.         -2.40163946] 0.20211415739614325 4 [44, 6, 153.8127138018608, 28, 32, 72.39634016287614]\n",
      "False [-1.         -2.         -2.06717062] 0.2073551589173117 5 [43, 4, 155.8798844218254, 28, 32, 71.21333216174395]\n",
      "False [-0.        -3.        -2.0756104] 0.21158707101549246 6 [43, 1, 157.95549482107162, 28, 32, 70.26661910956886]\n",
      "False [ 1.         -3.         -2.22160292] -1 7 [43, 1, 157.95549482107162, 28, 32, 70.26661910956886]\n",
      "Episode: 1 Return: -0.17742124263787007 episode_length: 7 stats (m, s) [0, 0]\n",
      "False [-2.         -0.          0.75582552] 0 1 [41, 34, 15.244174480438232, 23, 30, 15.574078351886854]\n",
      "False [-2.         -0.          1.30189109] 0.5791085206077455 2 [39, 34, 13.942283391952515, 23, 30, 14.070569139609756]\n",
      "False [-2.         0.         1.7523427] 0.5977492754655407 3 [37, 34, 12.189940690994263, 23, 30, 12.56401416493379]\n",
      "False [-2.         0.         2.6112752] 0.618142519198257 4 [35, 34, 9.578665494918823, 23, 30, 11.031627468157277]\n",
      "False [-2.         -2.          1.40532804] 0.6614127342622151 5 [33, 32, 8.173337459564209, 23, 30, 8.167006109614958]\n",
      "False [-3.         -2.          4.86780691] 0.7112767166034525 6 [30, 30, 3.305530548095703, 23, 30, 5.483916704234075]\n",
      "False [-5.         -3.          4.97173357] 0.7295860189474676 7 [25, 27, -1.6662030220031738, 23, 30, 4.65542339360363]\n",
      "False [-6.        -2.         5.2959938] 0 8 [19, 25, -6.9621968269348145, 23, 30, 7.5692083790012035]\n",
      "False [-5.         -3.          5.84766626] 0 9 [14, 22, -12.809863090515137, 23, 30, 12.4798391767066]\n",
      "False [-5.         -3.          6.77370644] 0 10 [9, 19, -19.583569526672363, 23, 30, 17.173895896739058]\n",
      "False [-5.         -5.          6.68379402] 0 11 [4, 14, -26.26736354827881, 23, 30, 23.322632326495842]\n",
      "False [-6.         -4.          6.86820316] -1 12 [4, 14, -26.26736354827881, 23, 30, 23.322632326495842]\n",
      "Episode: 2 Return: 2.897275785084678 episode_length: 12 stats (m, s) [0, 0]\n",
      "False [-2.         -3.         -2.75146627] 0 1 [5, 6, -4.248533725738525, 29, 32, 35.38047164836814]\n",
      "False [-1.         -3.         -4.01344872] 0 2 [4, 3, -0.23508501052856445, 29, 32, 38.29281936097751]\n",
      "False [-1.         -3.         -5.84376049] 0 3 [3, 0, 5.608675479888916, 29, 32, 41.013024220808546]\n",
      "False [-0.         -4.         -5.39653826] -1 4 [3, 0, 5.608675479888916, 29, 32, 41.013024220808546]\n",
      "Episode: 3 Return: -1 episode_length: 4 stats (m, s) [0, 0]\n",
      "False [-3.         -6.         -4.43950939] 0 1 [16, 15, -20.560490608215332, 22, 21, 12.69596689586561]\n",
      "False [-3.         -6.         -4.77233696] 0 2 [13, 9, -15.788153648376465, 22, 21, 17.368121334221698]\n",
      "False [-2.         -7.         -6.51832104] 0 3 [11, 2, -9.269832611083984, 22, 21, 23.44489691751747]\n",
      "False [-2.         -7.         -6.49155807] -1 4 [11, 2, -9.269832611083984, 22, 21, 23.44489691751747]\n",
      "Episode: 4 Return: -1 episode_length: 4 stats (m, s) [0, 0]\n",
      "False [-3.         -6.         -2.60169697] 0 1 [13, 49, -161.3983030319214, 38, 26, 84.07735817985122]\n",
      "False [-5.         -7.         -1.22867489] 0.19822262861634787 2 [8, 42, -160.16962814331055, 38, 26, 75.05142595108232]\n",
      "False [-7.         -7.         -1.04638231] 0.24436077910238474 3 [1, 35, -159.12324583530426, 38, 26, 64.71585445496875]\n",
      "False [-5.        -7.        -0.0362675] -1 4 [1, 35, -159.12324583530426, 38, 26, 64.71585445496875]\n",
      "Episode: 5 Return: -0.5574165922812674 episode_length: 4 stats (m, s) [0, 0]\n",
      "False [-7.         -8.         -0.31196091] 0 1 [30, 25, 136.31196090579033, 32, 32, 76.793996543754]\n",
      "False [-8.         -8.         -0.80560476] 0.23510376013628442 2 [22, 17, 137.11756566166878, 32, 32, 66.57468805221446]\n",
      "False [-8.         -8.         -1.56646371] 0.2824837109913383 3 [14, 9, 138.68402937054634, 32, 32, 56.73907316312568]\n",
      "False [-7.         -8.         -1.28435004] 0.3325076603470628 4 [7, 1, 139.9683794081211, 32, 32, 47.36074660696265]\n",
      "False [-7.         -8.         -0.80816603] -1 5 [7, 1, 139.9683794081211, 32, 32, 47.36074660696265]\n",
      "Episode: 6 Return: -0.14990486852531448 episode_length: 5 stats (m, s) [0, 0]\n",
      "False [-8.         -8.          3.60048676] 0 1 [33, 14, 39.399513244628906, 22, 32, 5.3909072905975135]\n",
      "False [-8.         -8.          3.96684504] 0 2 [25, 6, 35.43266820907593, 22, 32, 13.612503629658262]\n",
      "False [-8.         -8.          5.54071617] -1 3 [25, 6, 35.43266820907593, 22, 32, 13.612503629658262]\n",
      "Episode: 7 Return: -1 episode_length: 3 stats (m, s) [0, 0]\n",
      "False [-8.        -8.         3.4922359] -1 1 [3, 12, 166, 34, 33, 59.27834574995735]\n",
      "Episode: 8 Return: -1 episode_length: 1 stats (m, s) [0, 0]\n",
      "False [-8.         -6.          5.92159081] 0 1 [46, 33, 52.07840919494629, 29, 31, 37.01235428991847]\n",
      "False [-8.        -6.         7.9556222] 0.47581730152829516 2 [38, 27, 44.12278699874878, 29, 31, 25.321592737845137]\n",
      "False [-8.         -6.          7.91714191] 0.546967204925916 3 [30, 21, 36.2056450843811, 29, 31, 17.58362520987429]\n",
      "False [-8.         -8.          7.84375191] 0 4 [22, 13, 28.36189317703247, 29, 31, 18.25211346261774]\n",
      "False [-8.         -7.          8.33922863] 0 5 [14, 6, 20.022664546966553, 29, 31, 27.26757155956826]\n",
      "False [-8.         -8.          9.76776218] -1 6 [14, 6, 20.022664546966553, 29, 31, 27.26757155956826]\n",
      "Episode: 9 Return: 0.02278450645421115 episode_length: 6 stats (m, s) [0, 0]\n",
      "False [-8.         -7.          7.41266537] 0 1 [30, 11, 163.58733463287354, 27, 26, 65.23597691388638]\n",
      "False [-8.         -5.          7.05075836] 0.2761196385076804 2 [22, 6, 156.53657627105713, 27, 26, 54.538770993353964]\n",
      "False [-8.         -5.          6.39616108] 0.3335724444768763 3 [14, 1, 150.1404151916504, 27, 26, 44.352767681065615]\n",
      "False [-8.         -6.          5.51463509] -1 4 [14, 1, 150.1404151916504, 27, 26, 44.352767681065615]\n",
      "Episode: 10 Return: -0.3903079170154433 episode_length: 4 stats (m, s) [0, 0]\n",
      "False [-8.         -8.          9.49577236] 0 1 [21, 29, 17.50422763824463, 23, 20, 18.22164558133748]\n",
      "False [-8.         -8.          9.31484413] 0.5773640081740556 2 [13, 21, 8.189383506774902, 23, 20, 13.386355308105038]\n",
      "False [-8. -8. 10.] 0 3 [5, 13, -1.8106164932250977, 23, 20, 18.99471678405007]\n",
      "False [-8. -8. 10.] -1 4 [5, 13, -1.8106164932250977, 23, 20, 18.99471678405007]\n",
      "Episode: 11 Return: -0.42263599182594436 episode_length: 4 stats (m, s) [0, 0]\n",
      "False [-8. -8. 10.] 0 1 [31, 22, -63.0, 35, 20, 37.6566995173219]\n",
      "False [-8. -8. 10.] 0 2 [23, 14, -73.0, 35, 20, 40.72069640114077]\n",
      "False [-8. -8. 10.] 0 3 [15, 6, -83.0, 35, 20, 43.67432717630344]\n",
      "False [-8. -8. 10.] -1 4 [15, 6, -83.0, 35, 20, 43.67432717630344]\n",
      "Episode: 12 Return: -1 episode_length: 4 stats (m, s) [0, 0]\n",
      "False [-8.         -8.          8.22738838] 0 1 [32, 34, 74.77261161804199, 31, 36, 55.53210412445526]\n",
      "False [-8.         -8.          8.68931389] 0.34932082669899855 2 [24, 26, 66.08329772949219, 31, 36, 45.17509364080862]\n",
      "False [-8. -8. 10.] 0.38571321724633434 3 [16, 18, 56.08329772949219, 31, 36, 39.1209797992128]\n",
      "False [-8. -8. 10.] 0 4 [8, 10, 46.08329772949219, 31, 36, 40.115624742682826]\n",
      "False [-8.         -8.          9.88165569] 0 5 [0, 2, 36.20164203643799, 31, 36, 47.09605209483129]\n",
      "False [-8.         -8.          8.15414524] -1 6 [0, 2, 36.20164203643799, 31, 36, 47.09605209483129]\n",
      "Episode: 13 Return: -0.2649659560546671 episode_length: 6 stats (m, s) [0, 0]\n",
      "False [-7. -8. 10.] -1 1 [38, 5, -25, 23, 26, 39.90019359138083]\n",
      "Episode: 14 Return: -1 episode_length: 1 stats (m, s) [0, 0]\n",
      "False [-8. -8. 10.] -1 1 [4, 2, 23, 27, 33, 38.166873790686914]\n",
      "Episode: 15 Return: -1 episode_length: 1 stats (m, s) [0, 0]\n",
      "False [-8. -7. 10.] -1 1 [4, 36, -37, 34, 31, 10.257857081626362]\n",
      "Episode: 16 Return: -1 episode_length: 1 stats (m, s) [0, 0]\n",
      "False [-8.         -8.          9.92986202] 0 1 [21, 34, -62.9298620223999, 35, 26, 29.623443189130768]\n",
      "False [-8. -7. 10.] 0 2 [13, 27, -72.9298620223999, 35, 26, 30.971355968559735]\n",
      "False [-8. -5. 10.] 0 3 [5, 22, -82.9298620223999, 35, 26, 30.916742087145888]\n",
      "False [-8. -4. 10.] -1 4 [5, 22, -82.9298620223999, 35, 26, 30.916742087145888]\n"
     ]
    },
    {
     "name": "stdout",
     "output_type": "stream",
     "text": [
      "Episode: 17 Return: -1 episode_length: 4 stats (m, s) [0, 0]\n",
      "False [-8. -6. 10.] 0 1 [10, 28, -35.0, 34, 21, 10.462617944600629]\n",
      "False [-8. -6. 10.] 0 2 [2, 22, -45.0, 34, 21, 18.358432310708185]\n",
      "False [-8. -7. 10.] -1 3 [2, 22, -45.0, 34, 21, 18.358432310708185]\n",
      "Episode: 18 Return: -1 episode_length: 3 stats (m, s) [0, 0]\n",
      "False [-8. -8. 10.] 0 1 [4, 45, -142.0, 22, 26, 63.97408007777405]\n",
      "False [-8. -8. 10.] -1 2 [4, 45, -142.0, 22, 26, 63.97408007777405]\n",
      "Episode: 19 Return: -1 episode_length: 2 stats (m, s) [0, 0]\n",
      "False [-8. -7. 10.] 0 1 [13, 10, 32.0, 33, 30, 30.950857243313084]\n",
      "False [-8. -8. 10.] 0 2 [5, 2, 22.0, 33, 30, 39.21521844579056]\n",
      "False [-8. -8. 10.] -1 3 [5, 2, 22.0, 33, 30, 39.21521844579056]\n",
      "Episode: 20 Return: -1 episode_length: 3 stats (m, s) [0, 0]\n",
      "False [-8. -7. 10.] 0 1 [33, 7, -141.0, 26, 27, 71.15279304285649]\n",
      "False [-8.         -5.          8.58778572] 0.23664081404577775 2 [25, 2, -149.5877857208252, 26, 27, 62.281734780290584]\n",
      "False [-8. -3. 10.] -1 3 [25, 2, -149.5877857208252, 26, 27, 62.281734780290584]\n",
      "Episode: 21 Return: -0.7633591859542223 episode_length: 3 stats (m, s) [0, 0]\n",
      "False [-8.         -7.          8.28910732] 0 1 [33, 49, 171.71089267730713, 20, 28, 93.3364403173111]\n",
      "False [-8.         -7.          8.11710835] 0.13454083673792827 2 [25, 42, 163.5937843322754, 20, 28, 82.87099915381553]\n",
      "False [-8.         -7.          7.52503967] 0.1784722996733089 3 [17, 35, 156.06874465942383, 20, 28, 72.7514498648907]\n",
      "False [-8.         -8.          5.93190622] 0.22697629552756438 4 [9, 27, 150.1368384361267, 20, 28, 62.48390347417329]\n",
      "False [-8.         -8.          6.27585363] 0.2739967374150547 5 [1, 19, 143.8609848022461, 20, 28, 53.4112269734532]\n",
      "False [-8.         -8.          5.52966976] -1 6 [1, 19, 143.8609848022461, 20, 28, 53.4112269734532]\n",
      "Episode: 22 Return: -0.18601383064614374 episode_length: 6 stats (m, s) [0, 0]\n",
      "False [-8.         -8.          9.19692612] 0 1 [5, 38, -150.19692611694336, 36, 31, 69.83556960955279]\n",
      "False [-8.         -7.          9.56319332] -1 2 [5, 38, -150.19692611694336, 36, 31, 69.83556960955279]\n",
      "Episode: 23 Return: -1 episode_length: 2 stats (m, s) [0, 0]\n",
      "False [-7.         -7.          9.14789295] 0 1 [1, 49, 63.85210704803467, 23, 24, 66.56172383795082]\n",
      "False [-6. -7. 10.] -1 2 [1, 49, 63.85210704803467, 23, 24, 66.56172383795082]\n",
      "Episode: 24 Return: -1 episode_length: 2 stats (m, s) [0, 0]\n",
      "False [-6. -6. 10.] 0 1 [18, 27, 131.0, 31, 36, 74.85199295967449]\n",
      "False [-5. -7. 10.] 0.24673265245277842 2 [13, 20, 121.0, 31, 36, 65.14103449947217]\n",
      "False [-6. -4. 10.] 0.27166976157781386 3 [7, 16, 111.0, 31, 36, 59.88287581696024]\n",
      "False [-5. -3. 10.] 0.2844540894455807 4 [2, 13, 101.0, 31, 36, 57.28956912511641]\n",
      "False [-6. -1. 10.] -1 5 [2, 13, 101.0, 31, 36, 57.28956912511641]\n",
      "Episode: 25 Return: -0.197143496523827 episode_length: 5 stats (m, s) [0, 0]\n",
      "False [-8.         -3.          8.92900848] 0 1 [43, 28, 81.07099151611328, 34, 25, 59.15953594844802]\n",
      "False [-8.         -2.          9.60428047] 0.30904853332858606 2 [35, 26, 71.46671104431152, 34, 25, 50.292722811060884]\n",
      "False [-8.          1.          7.68199253] 0.32398058759638826 3 [27, 27, 63.78471851348877, 34, 25, 47.61943180285906]\n",
      "False [-8.         1.         9.0530262] 0.3311106276266642 4 [19, 28, 54.73169231414795, 34, 25, 46.37373013575457]\n"
     ]
    }
   ],
   "source": [
    "from block_world.env import Env\n",
    "from agents.ddpg_agent import DDPGAgent\n",
    "import numpy as np\n",
    "env = Env()\n",
    "agent = DDPGAgent(env)\n",
    "actions =  agent.play(10000)"
   ]
  },
  {
   "cell_type": "code",
   "execution_count": null,
   "metadata": {
    "scrolled": false
   },
   "outputs": [],
   "source": [
    "env = agent.env\n",
    "fig, (ax1, ax2) = plt.subplots(1, 2, figsize=(10, 20))\n",
    "env.block.update_sandbox()\n",
    "ax1.imshow(env.block.sandbox)\n",
    "ax2.imshow(env.block.original_sandbox)\n",
    "plt.show()\n",
    "print(env.block.block_x, env.block.block_y, env.block.shift_x, env.block.shift_y)"
   ]
  }
 ],
 "metadata": {
  "kernelspec": {
   "display_name": "rlvs",
   "language": "python",
   "name": "rlvs"
  },
  "language_info": {
   "codemirror_mode": {
    "name": "ipython",
    "version": 3
   },
   "file_extension": ".py",
   "mimetype": "text/x-python",
   "name": "python",
   "nbconvert_exporter": "python",
   "pygments_lexer": "ipython3",
   "version": "3.6.11"
  }
 },
 "nbformat": 4,
 "nbformat_minor": 4
}
