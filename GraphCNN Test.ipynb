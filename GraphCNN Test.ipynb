{
 "cells": [
  {
   "cell_type": "code",
   "execution_count": null,
   "metadata": {},
   "outputs": [],
   "source": [
    "from rlvs.agents.noise import OrnsteinUhlenbeckActionNoise\n",
    "import matplotlib.pyplot as plt\n",
    "en = OrnsteinUhlenbeckActionNoise(size=6, theta=0.15, sigma=0.3, n_steps_annealing=10000)\n",
    "n = 11000\n",
    "y = [en.generate(i) for i in range(n)]\n",
    "plt.plot(range(n), y)\n",
    "plt.show()"
   ]
  },
  {
   "cell_type": "code",
   "execution_count": null,
   "metadata": {},
   "outputs": [],
   "source": [
    "from rlvs.molecule_world.datasets import DataStore\n",
    "DataStore.init()\n",
    "from rlvs.molecule_world.env import GraphEnv\n",
    "from rlvs.agents.ddpg_agent import DDPGAgentGNN\n",
    "env = GraphEnv()\n",
    "print(env.input_shape)"
   ]
  },
  {
   "cell_type": "code",
   "execution_count": null,
   "metadata": {
    "scrolled": false
   },
   "outputs": [],
   "source": [
    "run_id = 0\n",
    "folder = \"./Results/\"\n",
    "path_prefix = f\"{folder}run{run_id}_\"\n",
    "agent = DDPGAgentGNN(env, weights_path=path_prefix+\"weights_intermediate\", log_filename=path_prefix+\"training_log.log\")\n",
    "actions =  agent.play(5000)\n",
    "agent.save_weights(path_prefix+\"weights_final\")"
   ]
  },
  {
   "cell_type": "code",
   "execution_count": null,
   "metadata": {},
   "outputs": [],
   "source": [
    "[(p.path, l.path) for p,l in DataStore.DATA]"
   ]
  },
  {
   "cell_type": "code",
   "execution_count": null,
   "metadata": {
    "tags": []
   },
   "outputs": [],
   "source": [
    "agent = DDPGAgentGNN(env, log_filename=\"./training_logfile.log\")\n",
    "actions =  agent.play(1000)\n",
    "agent.save_weights(\"./model_weights\")\n",
    "batch = agent.memory.sample(agent.BATCH_SIZE)"
   ]
  },
  {
   "cell_type": "code",
   "execution_count": null,
   "metadata": {
    "scrolled": true
   },
   "outputs": [],
   "source": [
    "# import numpy as np\n",
    "# import tensorflow as tf\n",
    "# print(len(batch))\n",
    "# xx = [val['state'] for val in batch]\n",
    "\n",
    "# # agent._critiq.action_gradients(xx, agent._actor.actor)\n",
    "\n",
    "# with tf.GradientTape() as tape2:\n",
    "#   action_tensor = agent._actor.actor(xx)\n",
    "\n",
    "#   q = agent._critiq.critic([xx, action_tensor])\n",
    "#   action_loss = -tf.reduce_mean(q)\n",
    "#   action_gradient =  tape2.gradient(action_loss, agent._actor.actor.trainable_variables)         \n",
    "# action_gradient, action_loss.numpy()"
   ]
  }
 ],
 "metadata": {
  "kernelspec": {
   "display_name": "rlvs",
   "language": "python",
   "name": "rlvs"
  },
  "language_info": {
   "codemirror_mode": {
    "name": "ipython",
    "version": 3
   },
   "file_extension": ".py",
   "mimetype": "text/x-python",
   "name": "python",
   "nbconvert_exporter": "python",
   "pygments_lexer": "ipython3",
   "version": "3.6.11"
  }
 },
 "nbformat": 4,
 "nbformat_minor": 4
}
