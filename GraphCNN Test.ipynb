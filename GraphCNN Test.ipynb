{
 "cells": [
  {
   "cell_type": "code",
   "execution_count": null,
   "metadata": {},
   "outputs": [],
   "source": [
    "from rlvs.molecule_world.datasets import DataStore\n",
    "DataStore.init()"
   ]
  },
  {
   "cell_type": "code",
   "execution_count": null,
   "metadata": {},
   "outputs": [],
   "source": [
    "[(p.path, l.path) for p,l in DataStore.DATA]"
   ]
  },
  {
   "cell_type": "code",
   "execution_count": null,
   "metadata": {
    "scrolled": true
   },
   "outputs": [],
   "source": [
    "from rlvs.molecule_world.env import GraphEnv\n",
    "from rlvs.agents.ddpg_agent import DDPGAgentGNN\n",
    "env = GraphEnv()\n",
    "env.input_shape\n",
    "agent = DDPGAgentGNN(env)\n",
    "actions =  agent.play(10000)\n",
    "batch = agent.memory.sample(agent.BATCH_SIZE)"
   ]
  },
  {
   "cell_type": "code",
   "execution_count": null,
   "metadata": {
    "scrolled": true
   },
   "outputs": [],
   "source": [
    "import numpy as np\n",
    "import tensorflow as tf\n",
    "print(len(batch))\n",
    "xx = [val['state'] for val in batch]\n",
    "\n",
    "# agent._critiq.action_gradients(xx, agent._actor.actor)\n",
    "\n",
    "with tf.GradientTape() as tape2:\n",
    "  action_tensor = agent._actor.actor(xx)\n",
    "\n",
    "  q = agent._critiq.critic([xx, action_tensor])\n",
    "  action_loss = -tf.reduce_mean(q)\n",
    "  action_gradient =  tape2.gradient(action_loss, agent._actor.actor.trainable_variables)         \n",
    "action_gradient, action_loss.numpy()"
   ]
  }
 ],
 "metadata": {
  "kernelspec": {
   "display_name": "rlvs",
   "language": "python",
   "name": "rlvs"
  },
  "language_info": {
   "codemirror_mode": {
    "name": "ipython",
    "version": 3
   },
   "file_extension": ".py",
   "mimetype": "text/x-python",
   "name": "python",
   "nbconvert_exporter": "python",
   "pygments_lexer": "ipython3",
   "version": "3.6.11"
  }
 },
 "nbformat": 4,
 "nbformat_minor": 4
}
