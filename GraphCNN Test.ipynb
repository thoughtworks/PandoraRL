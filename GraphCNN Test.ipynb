{
 "cells": [
  {
   "cell_type": "code",
   "execution_count": null,
   "metadata": {},
   "outputs": [],
   "source": [
    "from rlvs.molecule_world.datasets import DataStore\n",
    "DataStore.init()"
   ]
  },
  {
   "cell_type": "code",
   "execution_count": null,
   "metadata": {},
   "outputs": [],
   "source": [
    "[(p.path, l.path) for p,l in DataStore.DATA]"
   ]
  },
  {
   "cell_type": "code",
   "execution_count": null,
   "metadata": {
    "scrolled": true
   },
   "outputs": [],
   "source": [
    "from rlvs.molecule_world.env import GraphEnv\n",
    "from rlvs.agents.ddpg_agent import DDPGAgentGNN\n",
    "env = GraphEnv()\n",
    "print(env.input_shape)"
   ]
  },
  {
   "cell_type": "code",
   "execution_count": null,
   "metadata": {
    "tags": []
   },
   "outputs": [],
   "source": [
    "agent = DDPGAgentGNN(env, log_filename=\"./training_logfile.log\")\n",
    "actions =  agent.play(1000)\n",
    "agent.save_weights(\"./model_weights\")\n",
    "batch = agent.memory.sample(agent.BATCH_SIZE)"
   ]
  },
  {
   "cell_type": "code",
   "execution_count": null,
   "metadata": {
    "scrolled": true
   },
   "outputs": [],
   "source": [
    "# import numpy as np\n",
    "# import tensorflow as tf\n",
    "# print(len(batch))\n",
    "# xx = [val['state'] for val in batch]\n",
    "\n",
    "# # agent._critiq.action_gradients(xx, agent._actor.actor)\n",
    "\n",
    "# with tf.GradientTape() as tape2:\n",
    "#   action_tensor = agent._actor.actor(xx)\n",
    "\n",
    "#   q = agent._critiq.critic([xx, action_tensor])\n",
    "#   action_loss = -tf.reduce_mean(q)\n",
    "#   action_gradient =  tape2.gradient(action_loss, agent._actor.actor.trainable_variables)         \n",
    "# action_gradient, action_loss.numpy()"
   ]
  }
 ],
 "metadata": {
  "kernelspec": {
   "name": "Python 3.6.11 64-bit ('rl-virtual-screening': conda)",
   "display_name": "Python 3.6.11 64-bit ('rl-virtual-screening': conda)",
   "metadata": {
    "interpreter": {
     "hash": "40d264ad9c49636555ba0c957d0e7f6e0837306004dd5efd65d7c050a3314553"
    }
   }
  },
  "language_info": {
   "codemirror_mode": {
    "name": "ipython",
    "version": 3
   },
   "file_extension": ".py",
   "mimetype": "text/x-python",
   "name": "python",
   "nbconvert_exporter": "python",
   "pygments_lexer": "ipython3",
   "version": "3.6.11-final"
  }
 },
 "nbformat": 4,
 "nbformat_minor": 4
}