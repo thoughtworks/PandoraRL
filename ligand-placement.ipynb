{
 "cells": [
  {
   "cell_type": "markdown",
   "metadata": {},
   "source": [
    "# Reinforcement Learning based Virtual Screening\n",
    "Protein-Ligan pose prediction using RL"
   ]
  },
  {
   "cell_type": "code",
   "execution_count": null,
   "metadata": {},
   "outputs": [],
   "source": [
    "from rlvs.molecule_world.env import Env\n",
    "from rlvs.agents.ddpg_agent import DDPGAgent3D\n",
    "from matplotlib import pyplot as plt\n",
    "import numpy as np"
   ]
  },
  {
   "cell_type": "markdown",
   "metadata": {},
   "source": [
    "### Scoring\n",
    "RMSD "
   ]
  },
  {
   "cell_type": "code",
   "execution_count": null,
   "metadata": {
    "scrolled": true
   },
   "outputs": [],
   "source": [
    "env = Env()"
   ]
  },
  {
   "cell_type": "code",
   "execution_count": null,
   "metadata": {},
   "outputs": [],
   "source": [
    "env.reset()\n",
    "print(env._complex.rmsd)\n",
    "print(env._complex.score())"
   ]
  },
  {
   "cell_type": "markdown",
   "metadata": {},
   "source": [
    "### Protein and Ligand\n",
    "Protein and ligand layout in space, without any translation"
   ]
  },
  {
   "cell_type": "code",
   "execution_count": null,
   "metadata": {},
   "outputs": [],
   "source": [
    "from rlvs.molecule_world.datasets import DataStore\n",
    "DataStore.init()\n",
    "DataStore.load()"
   ]
  },
  {
   "cell_type": "code",
   "execution_count": null,
   "metadata": {},
   "outputs": [],
   "source": [
    "min_x, min_y, min_z, max_x, max_y, max_z = [None]*6\n",
    "for protein, ligand in DataStore.DATA:\n",
    "    _min_x, _min_y, _min_z = protein.coords[:,0].min(), protein.coords[:,1].min(), protein.coords[:,2].min()\n",
    "    _max_x, _max_y, _max_z = protein.coords[:,0].max(), protein.coords[:,1].max(), protein.coords[:,2].max()\n",
    "    min_x = _min_x if min_x is None or (_min_x < min_x) else min_x\n",
    "    min_y = _min_y if min_y is None or (_min_y < min_y) else min_y\n",
    "    min_z = _min_z if min_z is None or (_min_y < min_z) else min_z\n",
    "    \n",
    "    max_x = _max_x if max_x is None or (_max_x > max_x) else max_x\n",
    "    max_y = _max_y if max_y is None or (_max_y > max_y) else max_y\n",
    "    max_z = _max_z if max_z is None or (_max_y > max_z) else max_z\n",
    "(max_x - min_x, max_y - min_y, max_z - min_z)"
   ]
  },
  {
   "cell_type": "code",
   "execution_count": null,
   "metadata": {},
   "outputs": [],
   "source": [
    "print(env._complex.box_size)\n",
    "env._complex.plot_tensor(feature_axis=-1, protein_alpha=0.4)"
   ]
  },
  {
   "cell_type": "markdown",
   "metadata": {},
   "source": [
    "Protein and ligand layout in space, with randomly generated pose"
   ]
  },
  {
   "cell_type": "code",
   "execution_count": null,
   "metadata": {},
   "outputs": [],
   "source": [
    "xx = env.action_space.sample()\n",
    "state, reward, t = env.step(xx)\n",
    "env._complex.plot_tensor(feature_axis=-1, protein_alpha=0.4)\n",
    "print(reward, xx, env.action_space.action_bounds.shape)"
   ]
  },
  {
   "cell_type": "code",
   "execution_count": null,
   "metadata": {},
   "outputs": [],
   "source": [
    "xx = env.action_space.sample()\n",
    "state, reward, t = env.step(xx)\n",
    "env._complex.plot_tensor(feature_axis=-1, protein_alpha=0.4)\n",
    "print(reward, xx, env.action_space.action_bounds.shape)"
   ]
  },
  {
   "cell_type": "markdown",
   "metadata": {},
   "source": [
    "### RL Agent\n",
    "#### Training\n",
    "Create environment and feed it to the RL agent"
   ]
  },
  {
   "cell_type": "code",
   "execution_count": null,
   "metadata": {},
   "outputs": [],
   "source": [
    "from rlvs.molecule_world.env import Env\n",
    "from rlvs.agents.ddpg_agent import DDPGAgent3D\n",
    "env = Env(max_dist=71, resolution=1)\n",
    "agent = DDPGAgent3D(env)\n",
    "actions =  agent.play(10000)"
   ]
  },
  {
   "cell_type": "code",
   "execution_count": null,
   "metadata": {},
   "outputs": [],
   "source": [
    "from rlvs.molecule_world.datasets import DataStore\n",
    "DataStore.init()\n",
    "\n",
    "xx, xy = DataStore.next()\n",
    "xx.coords.min(), xx.coords.max()"
   ]
  }
 ],
 "metadata": {
  "kernelspec": {
   "display_name": "Python 3",
   "language": "python",
   "name": "python3"
  },
  "language_info": {
   "codemirror_mode": {
    "name": "ipython",
    "version": 3
   },
   "file_extension": ".py",
   "mimetype": "text/x-python",
   "name": "python",
   "nbconvert_exporter": "python",
   "pygments_lexer": "ipython3",
   "version": "3.6.11"
  }
 },
 "nbformat": 4,
 "nbformat_minor": 4
}
