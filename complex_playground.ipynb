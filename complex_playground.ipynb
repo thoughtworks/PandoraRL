{
 "cells": [
  {
   "cell_type": "code",
   "execution_count": 1,
   "metadata": {},
   "outputs": [],
   "source": [
    "%matplotlib notebook\n",
    "import numpy as np\n",
    "from rlvs.molecule_world.helper_functions import *\n",
    "from rlvs.molecule_world.complex import Complex\n",
    "from rlvs.molecule_world.molecule import Molecule\n",
    "from rlvs.molecule_world.featurizer import Featurizer"
   ]
  },
  {
   "cell_type": "markdown",
   "metadata": {},
   "source": [
    "### Load molecules "
   ]
  },
  {
   "cell_type": "code",
   "execution_count": 7,
   "metadata": {
    "scrolled": false,
    "tags": []
   },
   "outputs": [
    {
     "name": "stdout",
     "output_type": "stream",
     "text": [
      "--- Ligands ----\n",
      "\n",
      "Number of heavy atoms in molecule = 46\n",
      "Number of features = 15\n",
      "Max distance between atoms along\n",
      "x:(-8.08, 7.692, 15.772)\n",
      "y:(-3.83, 4.011, 7.841)\n",
      "z:(-3.817, 3.489, 7.306)\n",
      "----------\n",
      "\n",
      "Number of heavy atoms in molecule = 49\n",
      "Number of features = 15\n",
      "Max distance between atoms along\n",
      "x:(-8.774, 9.387, 18.161)\n",
      "y:(-4.406, 5.463, 9.869)\n",
      "z:(-3.23, 3.093, 6.323)\n",
      "\n",
      "\n",
      "--- Receptor ----\n",
      "\n",
      "Number of heavy atoms in molecule = 2341\n",
      "Number of features = 15\n",
      "Max distance between atoms along\n",
      "x:(-29.056, 21.003, 50.059)\n",
      "y:(-33.198, 32.099, 65.297)\n",
      "z:(-13.814, 40.634, 54.448)\n"
     ]
    }
   ],
   "source": [
    "print(\"--- Ligands ----\\n\")\n",
    "\n",
    "# load ligand\n",
    "ligand1 = OB_to_mol(read_to_OB(filename=\"./data/pdbqt_data/lopinavir.pdbqt\", filetype=\"pdbqt\"), mol_type=1)\n",
    "ligand1.summary()\n",
    "print(\"----------\\n\")\n",
    "ligand2 = OB_to_mol(read_to_OB(filename=\"./data/pdbqt_data/ritonavir.pdbqt\", filetype=\"pdbqt\"), mol_type=1)\n",
    "ligand2.summary()\n",
    "\n",
    "\n",
    "print(\"\\n\\n--- Receptor ----\\n\")\n",
    "# load receptor\n",
    "protein = OB_to_mol(read_to_OB(filename=\"./data/pdbqt_data/6Y2F_MOD.pdbqt\", filetype=\"pdbqt\"), mol_type=-1)\n",
    "protein.summary()"
   ]
  },
  {
   "cell_type": "code",
   "execution_count": 4,
   "metadata": {},
   "outputs": [
    {
     "name": "stdout",
     "output_type": "stream",
     "text": [
      "[[4.646, -1.202, -0.383], [4.503, -1.821, -1.419], [3.682, -1.233, 0.559], [5.877, -0.406, -0.159], [6.016, 0.261, 0.97], [7.105, 0.989, 1.214], [7.246, 1.7, 2.422], [8.144, 1.057, 0.25], [8.368, 2.435, 2.645], [9.387, 2.499, 1.696], [9.288, 1.826, 0.516], [8.005, 0.348, -0.958], [6.867, -0.381, -1.152], [2.426, -1.939, 0.298], [1.376, -0.952, -0.142], [1.651, 0.226, -0.23], [0.132, -1.378, -0.439], [-0.888, -0.418, -0.867], [-2.277, -0.974, -0.547], [-2.512, -2.148, -1.326], [-3.337, 0.079, -0.879], [-4.65, -0.383, -0.41], [-5.599, 0.734, -0.319], [-6.909, 0.245, 0.304], [-7.488, -0.88, -0.557], [-8.774, -1.406, 0.078], [-6.461, -2.011, -0.663], [-8.471, -1.956, 1.473], [-7.455, -3.095, 1.359], [-6.164, -2.563, 0.733], [-5.168, -1.456, -1.268], [-5.011, 1.824, 0.538], [-4.11, 1.57, 1.309], [-5.486, 3.082, 0.449], [-4.915, 4.142, 1.283], [-3.424, 4.288, 0.972], [-5.628, 5.463, 0.989], [-5.095, 3.783, 2.759], [-0.768, -0.184, -2.374], [0.553, 0.477, -2.676], [1.668, -0.296, -2.94], [2.879, 0.31, -3.217], [2.975, 1.689, -3.23], [1.859, 2.462, -2.97], [0.648, 1.855, -2.693], [1.962, -2.641, 1.576], [2.942, -3.728, 1.937], [3.858, -3.991, 1.187], [2.8, -4.406, 3.093]]\n",
      "True\n"
     ]
    },
    {
     "name": "stderr",
     "output_type": "stream",
     "text": [
      "/Users/in-justin.jose/.miniconda/envs/rl-virtual-screening/lib/python3.6/site-packages/ipykernel_launcher.py:7: VisibleDeprecationWarning: Creating an ndarray from ragged nested sequences (which is a list-or-tuple of lists-or-tuples-or ndarrays with different lengths or shapes) is deprecated. If you meant to do this, you must specify 'dtype=object' when creating the ndarray\n",
      "  import sys\n"
     ]
    }
   ],
   "source": [
    "f = Featurizer()\n",
    "obmol = read_to_OB(filename=\"./data/pdbqt_data/ritonavir.pdbqt\", filetype=\"pdbqt\")\n",
    "adg_mat = np.zeros((obmol.NumAtoms(), obmol.NumAtoms()))\n",
    "for bond in ob.OBMolBondIter(obmol):\n",
    "    adg_mat[bond.GetBeginAtom().GetIndex(), bond.GetEndAtom().GetIndex()] = 1\n",
    "\n",
    "ff = np.array([f.get_atom_features(atom, 1) for atom in ob.OBMolAtomIter(obmol) if atom.GetAtomicNum() > 1])\n",
    "\n",
    "coords, feats, adj_mat = f.get_mol_features(obmol=obmol, molecule_type=1, bond_verbose=0)\n",
    "print(list(ff[:, 0]))\n",
    "print(list(coords) == list(ff[:, 0]))\n"
   ]
  },
  {
   "cell_type": "code",
   "execution_count": null,
   "metadata": {},
   "outputs": [],
   "source": [
    "max_dist = 10\n",
    "resolution = 0.1\n",
    "\n",
    "grid = Complex(max_dist=max_dist, resolution=resolution, num_features=ligand1.num_features)\n",
    "print(grid.box_size, grid.resolution, grid.max_dist)"
   ]
  },
  {
   "cell_type": "markdown",
   "metadata": {},
   "source": [
    "### Create a box smaller than full protein -> atoms outside will be discarded. Original protein object can be modified with \"update_mols\" parameter"
   ]
  },
  {
   "cell_type": "code",
   "execution_count": null,
   "metadata": {},
   "outputs": [],
   "source": [
    "grid.update_tensor(mols=[ligand1, protein], update_mols=False)\n",
    "grid.plot_tensor(feature_axis=-1)"
   ]
  },
  {
   "cell_type": "markdown",
   "metadata": {},
   "source": [
    "### Manually crop protein and update tensor (now all atoms are within box bounds)"
   ]
  },
  {
   "cell_type": "code",
   "execution_count": null,
   "metadata": {},
   "outputs": [],
   "source": [
    "protein.crop(ligand1.get_centroid(), 5, 5, 5)\n",
    "grid.update_tensor(mols=[ligand1, protein], update_mols=False)\n",
    "grid.plot_tensor(feature_axis=-1, protein_alpha=0.3)"
   ]
  },
  {
   "cell_type": "code",
   "execution_count": null,
   "metadata": {},
   "outputs": [],
   "source": []
  },
  {
   "cell_type": "markdown",
   "metadata": {},
   "source": [
    "### Create bigger box to accomodate full protein"
   ]
  },
  {
   "cell_type": "code",
   "execution_count": null,
   "metadata": {
    "scrolled": false
   },
   "outputs": [],
   "source": [
    "max_dist = 41\n",
    "resolution = 1\n",
    "\n",
    "protein = OB_to_mol(read_to_OB(filename=\"../../pdbqt_data/6Y2F_MOD.pdbqt\", filetype=\"pdbqt\"), mol_type=-1)\n",
    "\n",
    "grid = Complex(max_dist=max_dist, resolution=resolution, num_features=ligand1.num_features)\n",
    "print(grid.box_size, grid.resolution, grid.max_dist)\n",
    "grid.update_tensor(mols=[ligand1, protein], update_mols=False)\n",
    "grid.plot_tensor(feature_axis=-1)"
   ]
  },
  {
   "cell_type": "code",
   "execution_count": null,
   "metadata": {},
   "outputs": [],
   "source": []
  }
 ],
 "metadata": {
  "kernelspec": {
   "display_name": "Python 3",
   "language": "python",
   "name": "python3"
  },
  "language_info": {
   "codemirror_mode": {
    "name": "ipython",
    "version": 3
   },
   "file_extension": ".py",
   "mimetype": "text/x-python",
   "name": "python",
   "nbconvert_exporter": "python",
   "pygments_lexer": "ipython3",
   "version": "3.6.11"
  }
 },
 "nbformat": 4,
 "nbformat_minor": 4
}
