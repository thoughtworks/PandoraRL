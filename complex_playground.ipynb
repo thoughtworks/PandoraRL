{
 "cells": [
  {
   "cell_type": "code",
   "execution_count": 1,
   "metadata": {},
   "outputs": [],
   "source": [
    "%matplotlib notebook\n",
    "import numpy as np\n",
    "from rlvs.molecule_world.helper_functions import *\n",
    "from rlvs.molecule_world.complex import Complex\n",
    "from rlvs.molecule_world.molecule import Molecule\n",
    "from rlvs.molecule_world.featurizer import Featurizer"
   ]
  },
  {
   "cell_type": "markdown",
   "metadata": {},
   "source": [
    "### Load molecules "
   ]
  },
  {
   "cell_type": "code",
   "execution_count": 2,
   "metadata": {
    "scrolled": false,
    "tags": []
   },
   "outputs": [
    {
     "name": "stdout",
     "output_type": "stream",
     "text": [
      "--- Ligands ----\n",
      "\n",
      "Number of heavy atoms in molecule = 46\n",
      "Number of features = 15\n",
      "Max distance between atoms along\n",
      "x:(-8.08, 7.692, 15.772)\n",
      "y:(-3.83, 4.011, 7.841)\n",
      "z:(-3.817, 3.489, 7.306)\n",
      "----------\n",
      "\n",
      "Number of heavy atoms in molecule = 49\n",
      "Number of features = 15\n",
      "Max distance between atoms along\n",
      "x:(-8.774, 9.387, 18.161)\n",
      "y:(-4.406, 5.463, 9.869)\n",
      "z:(-3.23, 3.093, 6.323)\n",
      "\n",
      "\n",
      "--- Receptor ----\n",
      "\n",
      "Number of heavy atoms in molecule = 2341\n",
      "Number of features = 15\n",
      "Max distance between atoms along\n",
      "x:(-29.056, 21.003, 50.059)\n",
      "y:(-33.198, 32.099, 65.297)\n",
      "z:(-13.814, 40.634, 54.448)\n"
     ]
    }
   ],
   "source": [
    "print(\"--- Ligands ----\\n\")\n",
    "\n",
    "# load ligand\n",
    "ligand1 = OB_to_mol(read_to_OB(filename=\"./pdbqt_data/lopinavir.pdbqt\", filetype=\"pdbqt\"), mol_type=1)\n",
    "ligand1.summary()\n",
    "print(\"----------\\n\")\n",
    "ligand2 = OB_to_mol(read_to_OB(filename=\"./pdbqt_data/ritonavir.pdbqt\", filetype=\"pdbqt\"), mol_type=1)\n",
    "ligand2.summary()\n",
    "\n",
    "\n",
    "print(\"\\n\\n--- Receptor ----\\n\")\n",
    "# load receptor\n",
    "protein = OB_to_mol(read_to_OB(filename=\"./pdbqt_data/6Y2F_MOD.pdbqt\", filetype=\"pdbqt\"), mol_type=-1)\n",
    "protein.summary()"
   ]
  },
  {
   "cell_type": "code",
   "execution_count": 3,
   "metadata": {},
   "outputs": [
    {
     "name": "stdout",
     "output_type": "stream",
     "text": [
      "9\n",
      "[1. 1. 2. 1. 2. 3. 1. 1. 1. 2. 3. 1. 1. 1. 1. 1. 1. 1. 1. 1. 1. 1. 2. 1.\n",
      " 3. 1. 3. 1. 1. 1. 1. 1. 1. 1. 1. 1. 1. 1. 1. 1. 1. 1. 3. 1. 1. 1.]\n",
      "0.0\n"
     ]
    }
   ],
   "source": [
    "f = Featurizer()\n",
    "print(f.num_classes)\n",
    "atom = 2\n",
    "print(ligand1.features[:,0])\n",
    "print(ligand1.score(ligand1))"
   ]
  },
  {
   "cell_type": "code",
   "execution_count": null,
   "metadata": {},
   "outputs": [],
   "source": [
    "max_dist = 10\n",
    "resolution = 0.1\n",
    "\n",
    "grid = Complex(max_dist=max_dist, resolution=resolution, num_features=ligand1.num_features)\n",
    "print(grid.box_size, grid.resolution, grid.max_dist)"
   ]
  },
  {
   "cell_type": "markdown",
   "metadata": {},
   "source": [
    "### Create a box smaller than full protein -> atoms outside will be discarded. Original protein object can be modified with \"update_mols\" parameter"
   ]
  },
  {
   "cell_type": "code",
   "execution_count": null,
   "metadata": {},
   "outputs": [],
   "source": [
    "grid.update_tensor(mols=[ligand1, protein], update_mols=False)\n",
    "grid.plot_tensor(feature_axis=-1)"
   ]
  },
  {
   "cell_type": "markdown",
   "metadata": {},
   "source": [
    "### Manually crop protein and update tensor (now all atoms are within box bounds)"
   ]
  },
  {
   "cell_type": "code",
   "execution_count": null,
   "metadata": {},
   "outputs": [],
   "source": [
    "protein.crop(ligand1.get_centroid(), 5, 5, 5)\n",
    "grid.update_tensor(mols=[ligand1, protein], update_mols=False)\n",
    "grid.plot_tensor(feature_axis=-1, protein_alpha=0.3)"
   ]
  },
  {
   "cell_type": "code",
   "execution_count": null,
   "metadata": {},
   "outputs": [],
   "source": []
  },
  {
   "cell_type": "markdown",
   "metadata": {},
   "source": [
    "### Create bigger box to accomodate full protein"
   ]
  },
  {
   "cell_type": "code",
   "execution_count": null,
   "metadata": {
    "scrolled": false
   },
   "outputs": [],
   "source": [
    "max_dist = 41\n",
    "resolution = 1\n",
    "\n",
    "protein = OB_to_mol(read_to_OB(filename=\"../../pdbqt_data/6Y2F_MOD.pdbqt\", filetype=\"pdbqt\"), mol_type=-1)\n",
    "\n",
    "grid = Complex(max_dist=max_dist, resolution=resolution, num_features=ligand1.num_features)\n",
    "print(grid.box_size, grid.resolution, grid.max_dist)\n",
    "grid.update_tensor(mols=[ligand1, protein], update_mols=False)\n",
    "grid.plot_tensor(feature_axis=-1)"
   ]
  },
  {
   "cell_type": "code",
   "execution_count": null,
   "metadata": {},
   "outputs": [],
   "source": []
  }
 ],
 "metadata": {
  "kernelspec": {
   "display_name": "Python 3",
   "language": "python",
   "name": "python3"
  },
  "language_info": {
   "codemirror_mode": {
    "name": "ipython",
    "version": 3
   },
   "file_extension": ".py",
   "mimetype": "text/x-python",
   "name": "python",
   "nbconvert_exporter": "python",
   "pygments_lexer": "ipython3",
   "version": "3.6.11"
  }
 },
 "nbformat": 4,
 "nbformat_minor": 4
}
