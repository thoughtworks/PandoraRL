{
 "cells": [
  {
   "cell_type": "markdown",
   "metadata": {},
   "source": [
    "# Reinforcement Learning based Virtual Screening\n",
    "Protein-Ligan pose prediction using RL\n",
    "\n",
    "## Spatial block arrangement using RL CNN-DQN\n",
    "__Input__\n",
    "- Sandbox with block and the surface placemnt\n",
    "\n",
    "__Output__\n",
    "- <x, y, $\\theta$> for block wrt Sandbox"
   ]
  },
  {
   "cell_type": "markdown",
   "metadata": {},
   "source": [
    "### Generating the sandbox\n",
    "The block world generates a block and places it in the surface by randomizing <x, y, $\\theta$>. The $\\theta$ rotated block is stored in the _block_ property of the Block class.\n",
    "\n",
    "Both the block and the surface are combined together into a single sandbox image. (More here)"
   ]
  },
  {
   "cell_type": "code",
   "execution_count": 1,
   "metadata": {
    "scrolled": true
   },
   "outputs": [
    {
     "data": {
      "image/png": "[encoded data removed]",
      "text/plain": [
       "<Figure size 720x1440 with 2 Axes>"
      ]
     },
     "metadata": {
      "needs_background": "light"
     },
     "output_type": "display_data"
    }
   ],
   "source": [
    "from rlvs.block_world.env import Env\n",
    "import numpy as np\n",
    "from matplotlib import pyplot as plt\n",
    "env = Env()\n",
    "fig, (ax1, ax2) = plt.subplots(1, 2, figsize=(10, 20))\n",
    "ax1.imshow(env.block.sandbox)\n",
    "ax2.imshow(env.block.original_sandbox)\n",
    "plt.show()"
   ]
  },
  {
   "cell_type": "markdown",
   "metadata": {},
   "source": [
    "### Update sandbox\n",
    "Sandbox is updated with $\\delta$x, $\\delta$y and $\\delta\\theta$"
   ]
  },
  {
   "cell_type": "code",
   "execution_count": 2,
   "metadata": {},
   "outputs": [
    {
     "data": {
      "image/png": "[encoded data removed]",
      "text/plain": [
       "<Figure size 720x1440 with 2 Axes>"
      ]
     },
     "metadata": {
      "needs_background": "light"
     },
     "output_type": "display_data"
    }
   ],
   "source": [
    "block = env.block\n",
    "env.block.update_sandbox(-10, -10, -180)\n",
    "fig, (ax1, ax2) = plt.subplots(1, 2, figsize=(10, 20))\n",
    "ax1.imshow(env.block.sandbox)\n",
    "ax2.imshow(env.block.original_sandbox)\n",
    "plt.show()"
   ]
  },
  {
   "cell_type": "markdown",
   "metadata": {},
   "source": [
    "### Perform env step\n",
    "Sandbox can be updated by generating an array consisting of $\\delta$x, $\\delta$y and $\\delta\\theta$, which returns the reward and the next state and whether the terminal state has been reached"
   ]
  },
  {
   "cell_type": "code",
   "execution_count": 3,
   "metadata": {
    "scrolled": true
   },
   "outputs": [
    {
     "data": {
      "image/png": "[encoded data removed]",
      "text/plain": [
       "<Figure size 432x288 with 1 Axes>"
      ]
     },
     "metadata": {
      "needs_background": "light"
     },
     "output_type": "display_data"
    },
    {
     "name": "stdout",
     "output_type": "stream",
     "text": [
      "0 [ 3.65227941 -7.72167203 -8.46326961] (2, 3)\n"
     ]
    }
   ],
   "source": [
    "xx = env.action_space.sample()\n",
    "env.block.block_x\n",
    "state, reward, t = env.step(xx)\n",
    "plt.imshow(env.block.sandbox)\n",
    "plt.show()\n",
    "print(reward, xx, env.action_space.action_bounds.shape)"
   ]
  },
  {
   "cell_type": "markdown",
   "metadata": {},
   "source": [
    "### Absolute Fit\n",
    "The absolute fit is when the block is placed square on top of the slot with $d \\leq 0.1$\n"
   ]
  },
  {
   "cell_type": "code",
   "execution_count": 4,
   "metadata": {
    "scrolled": true
   },
   "outputs": [
    {
     "name": "stdout",
     "output_type": "stream",
     "text": [
      "44.86342439892262\n",
      "[28, 23, 30, 35]\n",
      "[28, 18, 30, 20]\n",
      "0 [-5, -15, 0] 14.582942720260204 14.582942720260204\n",
      "[28, 18, 30, 20]\n",
      "[28, 28, 30, 30]\n",
      "0.8188956016068307 [9.5, 9.5, -111.9] 0.6262026696726757 0.6262026696726757\n"
     ]
    },
    {
     "data": {
      "text/plain": [
       "<matplotlib.image.AxesImage at 0x1788a2e48>"
      ]
     },
     "execution_count": 4,
     "metadata": {},
     "output_type": "execute_result"
    },
    {
     "data": {
      "image/png": "[encoded data removed]",
      "text/plain": [
       "<Figure size 720x1440 with 2 Axes>"
      ]
     },
     "metadata": {
      "needs_background": "light"
     },
     "output_type": "display_data"
    },
    {
     "data": {
      "image/png": "[encoded data removed]",
      "text/plain": [
       "<Figure size 720x1440 with 2 Axes>"
      ]
     },
     "metadata": {
      "needs_background": "light"
     },
     "output_type": "display_data"
    }
   ],
   "source": [
    "env = Env()\n",
    "block = env.block\n",
    "print(block._max_dist)\n",
    "print([block.shift_x, block.block_x, block.shift_y, block.block_y])\n",
    "xx = [block.shift_x - block.block_x-10, block.shift_y - block.block_y -10, 0]\n",
    "state, reward, t = env.step(xx)\n",
    "\n",
    "print([block.shift_x, block.block_x, block.shift_y, block.block_y])\n",
    "print(reward, xx, block.distance(), block.prev_dist)\n",
    "\n",
    "fig, (ax1, ax2) = plt.subplots(1, 2, figsize=(10, 20))\n",
    "ax1.imshow(env.block.sandbox)\n",
    "ax2.imshow(env.block.original_sandbox)\n",
    "\n",
    "print([block.shift_x, block.block_x, block.shift_y, block.block_y])\n",
    "\n",
    "xx = [block.shift_x - block.block_x-0.5, block.shift_y - block.block_y -0.5, -block.rotate_angle + 0.1]\n",
    "state, reward, t = env.step(xx)\n",
    "\n",
    "print([block.shift_x, block.block_x, block.shift_y, block.block_y])\n",
    "print(reward, xx, block.distance(), block.prev_dist)\n",
    "\n",
    "fig, (ax1, ax2) = plt.subplots(1, 2, figsize=(10, 20))\n",
    "ax1.imshow(env.block.sandbox)\n",
    "ax2.imshow(env.block.original_sandbox)\n"
   ]
  },
  {
   "cell_type": "markdown",
   "metadata": {},
   "source": [
    "### Agent Training"
   ]
  },
  {
   "cell_type": "code",
   "execution_count": null,
   "metadata": {
    "scrolled": true
   },
   "outputs": [
    {
     "name": "stderr",
     "output_type": "stream",
     "text": [
      "/Users/in-justin.jose/.miniconda/envs/rl-virtual-screening/lib/python3.6/site-packages/tensorflow/python/framework/dtypes.py:516: FutureWarning: Passing (type, 1) or '1type' as a synonym of type is deprecated; in a future version of numpy, it will be understood as (type, (1,)) / '(1,)type'.\n",
      "  _np_qint8 = np.dtype([(\"qint8\", np.int8, 1)])\n",
      "/Users/in-justin.jose/.miniconda/envs/rl-virtual-screening/lib/python3.6/site-packages/tensorflow/python/framework/dtypes.py:517: FutureWarning: Passing (type, 1) or '1type' as a synonym of type is deprecated; in a future version of numpy, it will be understood as (type, (1,)) / '(1,)type'.\n",
      "  _np_quint8 = np.dtype([(\"quint8\", np.uint8, 1)])\n",
      "/Users/in-justin.jose/.miniconda/envs/rl-virtual-screening/lib/python3.6/site-packages/tensorflow/python/framework/dtypes.py:518: FutureWarning: Passing (type, 1) or '1type' as a synonym of type is deprecated; in a future version of numpy, it will be understood as (type, (1,)) / '(1,)type'.\n",
      "  _np_qint16 = np.dtype([(\"qint16\", np.int16, 1)])\n",
      "/Users/in-justin.jose/.miniconda/envs/rl-virtual-screening/lib/python3.6/site-packages/tensorflow/python/framework/dtypes.py:519: FutureWarning: Passing (type, 1) or '1type' as a synonym of type is deprecated; in a future version of numpy, it will be understood as (type, (1,)) / '(1,)type'.\n",
      "  _np_quint16 = np.dtype([(\"quint16\", np.uint16, 1)])\n",
      "/Users/in-justin.jose/.miniconda/envs/rl-virtual-screening/lib/python3.6/site-packages/tensorflow/python/framework/dtypes.py:520: FutureWarning: Passing (type, 1) or '1type' as a synonym of type is deprecated; in a future version of numpy, it will be understood as (type, (1,)) / '(1,)type'.\n",
      "  _np_qint32 = np.dtype([(\"qint32\", np.int32, 1)])\n",
      "/Users/in-justin.jose/.miniconda/envs/rl-virtual-screening/lib/python3.6/site-packages/tensorflow/python/framework/dtypes.py:525: FutureWarning: Passing (type, 1) or '1type' as a synonym of type is deprecated; in a future version of numpy, it will be understood as (type, (1,)) / '(1,)type'.\n",
      "  np_resource = np.dtype([(\"resource\", np.ubyte, 1)])\n",
      "/Users/in-justin.jose/.miniconda/envs/rl-virtual-screening/lib/python3.6/site-packages/tensorboard/compat/tensorflow_stub/dtypes.py:541: FutureWarning: Passing (type, 1) or '1type' as a synonym of type is deprecated; in a future version of numpy, it will be understood as (type, (1,)) / '(1,)type'.\n",
      "  _np_qint8 = np.dtype([(\"qint8\", np.int8, 1)])\n",
      "/Users/in-justin.jose/.miniconda/envs/rl-virtual-screening/lib/python3.6/site-packages/tensorboard/compat/tensorflow_stub/dtypes.py:542: FutureWarning: Passing (type, 1) or '1type' as a synonym of type is deprecated; in a future version of numpy, it will be understood as (type, (1,)) / '(1,)type'.\n",
      "  _np_quint8 = np.dtype([(\"quint8\", np.uint8, 1)])\n",
      "/Users/in-justin.jose/.miniconda/envs/rl-virtual-screening/lib/python3.6/site-packages/tensorboard/compat/tensorflow_stub/dtypes.py:543: FutureWarning: Passing (type, 1) or '1type' as a synonym of type is deprecated; in a future version of numpy, it will be understood as (type, (1,)) / '(1,)type'.\n",
      "  _np_qint16 = np.dtype([(\"qint16\", np.int16, 1)])\n",
      "/Users/in-justin.jose/.miniconda/envs/rl-virtual-screening/lib/python3.6/site-packages/tensorboard/compat/tensorflow_stub/dtypes.py:544: FutureWarning: Passing (type, 1) or '1type' as a synonym of type is deprecated; in a future version of numpy, it will be understood as (type, (1,)) / '(1,)type'.\n",
      "  _np_quint16 = np.dtype([(\"quint16\", np.uint16, 1)])\n",
      "/Users/in-justin.jose/.miniconda/envs/rl-virtual-screening/lib/python3.6/site-packages/tensorboard/compat/tensorflow_stub/dtypes.py:545: FutureWarning: Passing (type, 1) or '1type' as a synonym of type is deprecated; in a future version of numpy, it will be understood as (type, (1,)) / '(1,)type'.\n",
      "  _np_qint32 = np.dtype([(\"qint32\", np.int32, 1)])\n",
      "/Users/in-justin.jose/.miniconda/envs/rl-virtual-screening/lib/python3.6/site-packages/tensorboard/compat/tensorflow_stub/dtypes.py:550: FutureWarning: Passing (type, 1) or '1type' as a synonym of type is deprecated; in a future version of numpy, it will be understood as (type, (1,)) / '(1,)type'.\n",
      "  np_resource = np.dtype([(\"resource\", np.ubyte, 1)])\n",
      "Using TensorFlow backend.\n"
     ]
    },
    {
     "name": "stdout",
     "output_type": "stream",
     "text": [
      "WARNING:tensorflow:From /Users/in-justin.jose/.miniconda/envs/rl-virtual-screening/lib/python3.6/site-packages/keras/backend/tensorflow_backend.py:4070: The name tf.nn.max_pool is deprecated. Please use tf.nn.max_pool2d instead.\n",
      "\n"
     ]
    },
    {
     "name": "stderr",
     "output_type": "stream",
     "text": [
      "/Users/in-justin.jose/Documents/Projects/E4R/rl-virtual-screening/rlvs/network/actor.py:48: UserWarning: Update your `Conv2D` call to the Keras 2 API: `Conv2D(64, (5, 5), activation=\"relu\")`\n",
      "  conv_model_1 = Conv2D(64, 5, 5,  activation='relu')(conv_model)\n",
      "/Users/in-justin.jose/Documents/Projects/E4R/rl-virtual-screening/rlvs/network/actor.py:49: UserWarning: Update your `Conv2D` call to the Keras 2 API: `Conv2D(64, (4, 4), activation=\"relu\")`\n",
      "  conv_model_1 = Conv2D(64, 4, 4,  activation='relu')(conv_model_1)\n",
      "/Users/in-justin.jose/Documents/Projects/E4R/rl-virtual-screening/rlvs/network/actor.py:50: UserWarning: Update your `Conv2D` call to the Keras 2 API: `Conv2D(64, (3, 3), activation=\"relu\")`\n",
      "  conv_model_1 = Conv2D(64, 3, 3,  activation='relu')(conv_model_1)\n"
     ]
    },
    {
     "name": "stdout",
     "output_type": "stream",
     "text": [
      "WARNING:tensorflow:From /Users/in-justin.jose/Documents/Projects/E4R/rl-virtual-screening/rlvs/network/actor.py:42: The name tf.train.AdamOptimizer is deprecated. Please use tf.compat.v1.train.AdamOptimizer instead.\n",
      "\n",
      "WARNING:tensorflow:From /Users/in-justin.jose/.miniconda/envs/rl-virtual-screening/lib/python3.6/site-packages/keras/backend/tensorflow_backend.py:422: The name tf.global_variables is deprecated. Please use tf.compat.v1.global_variables instead.\n",
      "\n",
      "WARNING:tensorflow:From /Users/in-justin.jose/.miniconda/envs/rl-virtual-screening/lib/python3.6/site-packages/keras/backend/tensorflow_backend.py:431: The name tf.is_variable_initialized is deprecated. Please use tf.compat.v1.is_variable_initialized instead.\n",
      "\n",
      "WARNING:tensorflow:From /Users/in-justin.jose/.miniconda/envs/rl-virtual-screening/lib/python3.6/site-packages/keras/backend/tensorflow_backend.py:438: The name tf.variables_initializer is deprecated. Please use tf.compat.v1.variables_initializer instead.\n",
      "\n"
     ]
    },
    {
     "name": "stderr",
     "output_type": "stream",
     "text": [
      "/Users/in-justin.jose/Documents/Projects/E4R/rl-virtual-screening/rlvs/network/critic.py:50: UserWarning: Update your `Conv2D` call to the Keras 2 API: `Conv2D(64, (5, 5), activation=\"relu\")`\n",
      "  conv_model_1 = Conv2D(64, 5, 5,  activation='relu')(conv_model)\n",
      "/Users/in-justin.jose/Documents/Projects/E4R/rl-virtual-screening/rlvs/network/critic.py:51: UserWarning: Update your `Conv2D` call to the Keras 2 API: `Conv2D(64, (4, 4), activation=\"relu\")`\n",
      "  conv_model_1 = Conv2D(64, 4, 4,  activation='relu')(conv_model_1)\n",
      "/Users/in-justin.jose/Documents/Projects/E4R/rl-virtual-screening/rlvs/network/critic.py:52: UserWarning: Update your `Conv2D` call to the Keras 2 API: `Conv2D(64, (3, 3), activation=\"relu\")`\n",
      "  conv_model_1 = Conv2D(64, 3, 3,  activation='relu')(conv_model_1)\n",
      "/Users/in-justin.jose/Documents/Projects/E4R/rl-virtual-screening/rlvs/network/actor.py:68: VisibleDeprecationWarning: Creating an ndarray from ragged nested sequences (which is a list-or-tuple of lists-or-tuples-or ndarrays with different lengths or shapes) is deprecated. If you meant to do this, you must specify 'dtype=object' when creating the ndarray\n",
      "  actor_weights = np.array(self.actor_target.get_weights())\n",
      "/Users/in-justin.jose/Documents/Projects/E4R/rl-virtual-screening/rlvs/network/actor.py:69: VisibleDeprecationWarning: Creating an ndarray from ragged nested sequences (which is a list-or-tuple of lists-or-tuples-or ndarrays with different lengths or shapes) is deprecated. If you meant to do this, you must specify 'dtype=object' when creating the ndarray\n",
      "  target_weights = np.array(self.actor.get_weights())\n",
      "/Users/in-justin.jose/Documents/Projects/E4R/rl-virtual-screening/rlvs/network/critic.py:29: VisibleDeprecationWarning: Creating an ndarray from ragged nested sequences (which is a list-or-tuple of lists-or-tuples-or ndarrays with different lengths or shapes) is deprecated. If you meant to do this, you must specify 'dtype=object' when creating the ndarray\n",
      "  model_weights = np.array(self.critic.get_weights())\n",
      "/Users/in-justin.jose/Documents/Projects/E4R/rl-virtual-screening/rlvs/network/critic.py:30: VisibleDeprecationWarning: Creating an ndarray from ragged nested sequences (which is a list-or-tuple of lists-or-tuples-or ndarrays with different lengths or shapes) is deprecated. If you meant to do this, you must specify 'dtype=object' when creating the ndarray\n",
      "  target_weights = np.array(self.critic_target.get_weights())\n"
     ]
    },
    {
     "name": "stdout",
     "output_type": "stream",
     "text": [
      "Action: [-1.          1.          0.06837896] Reward: 0 E_i: 1 Block state: [48, 34, -30.07, 35, 35] Dist: 13.0726 critic loss 0.00021\n",
      "Action: [-2.          2.          0.09164176] Reward: 0.4549 E_i: 2 Block state: [46, 36, -30.16, 35, 35] Dist: 11.0798 critic loss 0.06018\n",
      "Action: [-3.          3.         -1.60750687] Reward: 0.4989 E_i: 3 Block state: [43, 39, -28.55, 35, 35] Dist: 8.9752 critic loss 0.12802\n",
      "Action: [-4.          3.         -1.76730466] Reward: 0.5193 E_i: 4 Block state: [39, 42, -26.79, 35, 35] Dist: 8.0895 critic loss 0.10757\n",
      "Action: [-5.          3.         -2.01021481] Reward: 0 E_i: 5 Block state: [34, 45, -24.77, 35, 35] Dist: 10.0732 critic loss 0.10577\n",
      "Action: [-5.          2.         -2.13757849] Reward: 0 E_i: 6 Block state: [29, 47, -22.64, 35, 35] Dist: 13.4359 critic loss 0.05511\n",
      "Action: [-6.          3.         -0.27189669] Reward: 0 E_i: 7 Block state: [23, 50, -22.37, 35, 35] Dist: 19.2284 critic loss 0.05086\n",
      "Action: [-7.         4.        -0.0934938] Reward: 0 E_i: 8 Block state: [16, 54, -22.27, 35, 35] Dist: 26.8889 critic loss 0.07195\n",
      "Action: [-8.          3.         -0.83336461] Reward: -1 E_i: 9 Block state: [16, 54, -22.27, 35, 35] Dist: 26.8889 critic loss 0.20982\n",
      "Episode: 1 Return: 0.4730977645788874 episode_length: 9 Max Reward 0.4730977645788874\n",
      "Action: [1.         1.         1.39469051] Reward: 0 E_i: 1 Block state: [21, 24, -17.39, 34, 21] Dist: 13.3532 critic loss 0.13503\n",
      "Action: [2.        0.        0.6423772] Reward: 0.4578 E_i: 2 Block state: [23, 24, -18.04, 34, 21] Dist: 11.4141 critic loss 0.18148\n",
      "Action: [1.         1.         0.86772794] Reward: 0.47 E_i: 3 Block state: [24, 25, -18.9, 34, 21] Dist: 10.7839 critic loss 0.17125\n",
      "Action: [2.         1.         1.06830502] Reward: 0.4973 E_i: 4 Block state: [26, 26, -19.97, 34, 21] Dist: 9.4491 critic loss 0.19724\n",
      "Action: [ 2.          1.         -0.43689346] Reward: 0.5182 E_i: 5 Block state: [28, 27, -19.54, 34, 21] Dist: 8.4998 critic loss 0.24604\n",
      "Action: [ 3.          2.         -0.27603754] Reward: 0 E_i: 6 Block state: [31, 29, -19.26, 34, 21] Dist: 8.5581 critic loss 0.1355\n",
      "Action: [3.         2.         0.29038471] Reward: 0 E_i: 7 Block state: [34, 31, -19.55, 34, 21] Dist: 10.0145 critic loss 0.14228\n",
      "Action: [ 3.         3.        -1.3232702] Reward: 0 E_i: 8 Block state: [37, 34, -18.23, 34, 21] Dist: 13.3543 critic loss 0.18514\n",
      "Action: [ 3.          2.         -1.98327518] Reward: 0 E_i: 9 Block state: [40, 36, -16.24, 34, 21] Dist: 16.1655 critic loss 0.08382\n",
      "Action: [ 3.          2.         -0.84235287] Reward: 0 E_i: 10 Block state: [43, 38, -15.4, 34, 21] Dist: 19.2444 critic loss 0.09835\n",
      "Action: [ 2.         3.        -0.8682037] Reward: 0 E_i: 11 Block state: [45, 41, -14.53, 34, 21] Dist: 22.8335 critic loss 0.08407\n",
      "Action: [ 1.          4.         -2.13838553] Reward: 0 E_i: 12 Block state: [46, 45, -12.4, 34, 21] Dist: 26.8387 critic loss 0.06596\n",
      "Action: [ 1.          5.         -2.68558002] Reward: 0 E_i: 13 Block state: [47, 50, -9.71, 34, 21] Dist: 31.7841 critic loss 0.10367\n",
      "Action: [ 2.          5.         -2.20317602] Reward: 0 E_i: 14 Block state: [49, 55, -7.51, 34, 21] Dist: 37.164 critic loss 0.11808\n",
      "Action: [ 2.          5.         -2.53348374] Reward: 0 E_i: 15 Block state: [51, 60, -4.97, 34, 21] Dist: 42.545 critic loss 0.1245\n",
      "Action: [ 2.          6.         -3.37932444] Reward: -1 E_i: 16 Block state: [51, 60, -4.97, 34, 21] Dist: 42.545 critic loss 0.15244\n",
      "Episode: 2 Return: 0.9433351090658437 episode_length: 16 Max Reward 0.9433351090658437\n",
      "Action: [-0.          8.          2.64505124] Reward: 0 E_i: 1 Block state: [40, 17, -159.65, 25, 35] Dist: 24.2541 critic loss 0.1352\n",
      "Action: [-1.          8.          4.18909836] Reward: 0.3371 E_i: 2 Block state: [39, 25, -163.83, 25, 35] Dist: 18.064 critic loss 0.16297\n",
      "Action: [-1.          8.          4.43835211] Reward: 0.4005 E_i: 3 Block state: [38, 33, -168.27, 25, 35] Dist: 14.0508 critic loss 0.18963\n",
      "Action: [-2.          8.          4.50802422] Reward: 0.4106 E_i: 4 Block state: [36, 41, -172.78, 25, 35] Dist: 13.467 critic loss 0.14349\n",
      "Action: [-2.          8.          5.94094944] Reward: 0 E_i: 5 Block state: [34, 49, -178.72, 25, 35] Dist: 17.6322 critic loss 0.16487\n"
     ]
    }
   ],
   "source": [
    "from rlvs.block_world.env import Env\n",
    "from rlvs.agents.ddpg_agent import DDPGAgent\n",
    "import numpy as np\n",
    "env = Env()\n",
    "agent = DDPGAgent(env)\n",
    "actions =  agent.play(10000)"
   ]
  },
  {
   "cell_type": "code",
   "execution_count": null,
   "metadata": {
    "scrolled": false
   },
   "outputs": [],
   "source": [
    "env = agent.env\n",
    "fig, (ax1, ax2) = plt.subplots(1, 2, figsize=(10, 20))\n",
    "env.block.update_sandbox()\n",
    "ax1.imshow(env.block.sandbox)\n",
    "ax2.imshow(env.block.original_sandbox)\n",
    "plt.show()\n",
    "print(env.block.block_x, env.block.block_y, env.block.shift_x, env.block.shift_y)"
   ]
  }
 ],
 "metadata": {
  "kernelspec": {
   "display_name": "rlvs",
   "language": "python",
   "name": "rlvs"
  },
  "language_info": {
   "codemirror_mode": {
    "name": "ipython",
    "version": 3
   },
   "file_extension": ".py",
   "mimetype": "text/x-python",
   "name": "python",
   "nbconvert_exporter": "python",
   "pygments_lexer": "ipython3",
   "version": "3.6.11"
  }
 },
 "nbformat": 4,
 "nbformat_minor": 4
}
