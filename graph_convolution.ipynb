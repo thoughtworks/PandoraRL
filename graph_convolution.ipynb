{
 "cells": [
  {
   "cell_type": "code",
   "execution_count": 4,
   "metadata": {},
   "outputs": [],
   "source": [
    "# from rlvs.molecule_world.datasets import DataStore\n",
    "\n",
    "import tensorflow as tf\n",
    "import numpy as np"
   ]
  },
  {
   "cell_type": "code",
   "execution_count": 5,
   "metadata": {},
   "outputs": [
    {
     "data": {
      "text/plain": [
       "'2.2.0'"
      ]
     },
     "execution_count": 5,
     "metadata": {},
     "output_type": "execute_result"
    }
   ],
   "source": [
    "tf.__version__"
   ]
  },
  {
   "cell_type": "markdown",
   "metadata": {},
   "source": [
    "### Get test data"
   ]
  },
  {
   "cell_type": "code",
   "execution_count": 6,
   "metadata": {},
   "outputs": [],
   "source": [
    "from rlvs.molecule_world.helper_functions import *\n",
    "file_ligand = \"data/pafnucy_data/complexes/4mrw/4mrw_ligand.mol2\"\n",
    "file_protein = \"data/pafnucy_data/complexes/4mrw/4mrw_pocket.mol2\"\n",
    "\n",
    "f = Featurizer()\n",
    "\n",
    "obmol_ligand = read_to_OB(filename=file_ligand, filetype=\"mol2\")\n",
    "nodes_ligand, canon_adj_list_ligand = f.get_mol_features(obmol=obmol_ligand, molecule_type=1, bond_verbose=0)\n",
    "ligand = Molecule(atom_features=nodes_ligand, canon_adj_list=canon_adj_list_ligand)\n",
    "\n",
    "obmol_protein = read_to_OB(filename=file_protein, filetype=\"mol2\")\n",
    "nodes_protein, canon_adj_list_protein = f.get_mol_features(obmol=obmol_protein, molecule_type=-1, bond_verbose=0)\n",
    "protein = Molecule(atom_features=nodes_protein, canon_adj_list=canon_adj_list_protein)"
   ]
  },
  {
   "cell_type": "code",
   "execution_count": 7,
   "metadata": {},
   "outputs": [],
   "source": [
    "# from rdkit import Chem\n",
    "# from deepchem.feat import ConvMolFeaturizer\n",
    "\n",
    "# smiles = ['COC(C)(C)CCCC(C)CC=CC(C)=CC(=O)OC(C)C',\n",
    "#           'CCOC(=O)CC',\n",
    "#           'CSc1nc(NC(C)C)nc(NC(C)C)n1',\n",
    "#           'CC(C#C)N(C)C(=O)Nc1ccc(Cl)cc1',\n",
    "#           'Cc1cc2ccccc2cc1C']\n",
    "\n",
    "# mols = [Chem.MolFromSmiles(s) for s in smiles]\n",
    "# featurizer = ConvMolFeaturizer()\n",
    "# mols = featurizer.featurize(mols)"
   ]
  },
  {
   "cell_type": "code",
   "execution_count": 8,
   "metadata": {},
   "outputs": [
    {
     "data": {
      "text/plain": [
       "((550, 18), (18, 18))"
      ]
     },
     "execution_count": 8,
     "metadata": {},
     "output_type": "execute_result"
    }
   ],
   "source": [
    "mol1 = protein\n",
    "mol2 = ligand\n",
    "mol1.get_atom_features().shape, mol2.get_atom_features().shape"
   ]
  },
  {
   "cell_type": "markdown",
   "metadata": {},
   "source": [
    "### Prepare tensor inputs for convolution layer\n",
    "\n",
    "TODO: Feature normalization?"
   ]
  },
  {
   "cell_type": "code",
   "execution_count": 9,
   "metadata": {},
   "outputs": [],
   "source": [
    "inputs = []\n",
    "for mol in [mol1, mol2]:\n",
    "    atom_features = np.expand_dims(mol.get_atom_features(), axis=0)\n",
    "    degree_slice = np.expand_dims((mol.deg_slice.astype(dtype='int32')), axis=0)\n",
    "    deg_adjs = [np.expand_dims(deg_adj.astype(dtype='int32'), axis=0) for deg_adj in mol.get_deg_adjacency_lists()[1:]]\n",
    "\n",
    "    gc_in = [atom_features, degree_slice] + deg_adjs\n",
    "    \n",
    "    inputs.append(gc_in)\n"
   ]
  },
  {
   "cell_type": "markdown",
   "metadata": {},
   "source": [
    "### Define model (inputs -> protein-ligand combined feature vector)"
   ]
  },
  {
   "cell_type": "code",
   "execution_count": 10,
   "metadata": {
    "scrolled": false
   },
   "outputs": [
    {
     "name": "stdout",
     "output_type": "stream",
     "text": [
      "Model: \"model_2\"\n",
      "__________________________________________________________________________________________________\n",
      "Layer (type)                    Output Shape         Param #     Connected to                     \n",
      "==================================================================================================\n",
      "input_1 (InputLayer)            [(1, None, 18)]      0                                            \n",
      "__________________________________________________________________________________________________\n",
      "input_2 (InputLayer)            [(1, 11, 2)]         0                                            \n",
      "__________________________________________________________________________________________________\n",
      "input_3 (InputLayer)            [(1, None, None)]    0                                            \n",
      "__________________________________________________________________________________________________\n",
      "input_4 (InputLayer)            [(1, None, None)]    0                                            \n",
      "__________________________________________________________________________________________________\n",
      "input_5 (InputLayer)            [(1, None, None)]    0                                            \n",
      "__________________________________________________________________________________________________\n",
      "input_6 (InputLayer)            [(1, None, None)]    0                                            \n",
      "__________________________________________________________________________________________________\n",
      "input_7 (InputLayer)            [(1, None, None)]    0                                            \n",
      "__________________________________________________________________________________________________\n",
      "input_8 (InputLayer)            [(1, None, None)]    0                                            \n",
      "__________________________________________________________________________________________________\n",
      "input_9 (InputLayer)            [(1, None, None)]    0                                            \n",
      "__________________________________________________________________________________________________\n",
      "input_10 (InputLayer)           [(1, None, None)]    0                                            \n",
      "__________________________________________________________________________________________________\n",
      "input_11 (InputLayer)           [(1, None, None)]    0                                            \n",
      "__________________________________________________________________________________________________\n",
      "input_12 (InputLayer)           [(1, None, None)]    0                                            \n",
      "__________________________________________________________________________________________________\n",
      "input_13 (InputLayer)           [(1, None, 18)]      0                                            \n",
      "__________________________________________________________________________________________________\n",
      "input_14 (InputLayer)           [(1, 11, 2)]         0                                            \n",
      "__________________________________________________________________________________________________\n",
      "input_15 (InputLayer)           [(1, None, None)]    0                                            \n",
      "__________________________________________________________________________________________________\n",
      "input_16 (InputLayer)           [(1, None, None)]    0                                            \n",
      "__________________________________________________________________________________________________\n",
      "input_17 (InputLayer)           [(1, None, None)]    0                                            \n",
      "__________________________________________________________________________________________________\n",
      "input_18 (InputLayer)           [(1, None, None)]    0                                            \n",
      "__________________________________________________________________________________________________\n",
      "input_19 (InputLayer)           [(1, None, None)]    0                                            \n",
      "__________________________________________________________________________________________________\n",
      "input_20 (InputLayer)           [(1, None, None)]    0                                            \n",
      "__________________________________________________________________________________________________\n",
      "input_21 (InputLayer)           [(1, None, None)]    0                                            \n",
      "__________________________________________________________________________________________________\n",
      "input_22 (InputLayer)           [(1, None, None)]    0                                            \n",
      "__________________________________________________________________________________________________\n",
      "input_23 (InputLayer)           [(1, None, None)]    0                                            \n",
      "__________________________________________________________________________________________________\n",
      "input_24 (InputLayer)           [(1, None, None)]    0                                            \n",
      "__________________________________________________________________________________________________\n",
      "graph_conv (GraphConv)          (None, 64)           25536       input_1[0][0]                    \n",
      "                                                                 input_2[0][0]                    \n",
      "                                                                 input_3[0][0]                    \n",
      "                                                                 input_4[0][0]                    \n",
      "                                                                 input_5[0][0]                    \n",
      "                                                                 input_6[0][0]                    \n",
      "                                                                 input_7[0][0]                    \n",
      "                                                                 input_8[0][0]                    \n",
      "                                                                 input_9[0][0]                    \n",
      "                                                                 input_10[0][0]                   \n",
      "                                                                 input_11[0][0]                   \n",
      "                                                                 input_12[0][0]                   \n",
      "__________________________________________________________________________________________________\n",
      "graph_conv_1 (GraphConv)        (None, 64)           25536       input_13[0][0]                   \n",
      "                                                                 input_14[0][0]                   \n",
      "                                                                 input_15[0][0]                   \n",
      "                                                                 input_16[0][0]                   \n",
      "                                                                 input_17[0][0]                   \n",
      "                                                                 input_18[0][0]                   \n",
      "                                                                 input_19[0][0]                   \n",
      "                                                                 input_20[0][0]                   \n",
      "                                                                 input_21[0][0]                   \n",
      "                                                                 input_22[0][0]                   \n",
      "                                                                 input_23[0][0]                   \n",
      "                                                                 input_24[0][0]                   \n",
      "__________________________________________________________________________________________________\n",
      "graph_pool (GraphPool)          (None, 64)           0           graph_conv[0][0]                 \n",
      "                                                                 input_2[0][0]                    \n",
      "                                                                 input_3[0][0]                    \n",
      "                                                                 input_4[0][0]                    \n",
      "                                                                 input_5[0][0]                    \n",
      "                                                                 input_6[0][0]                    \n",
      "                                                                 input_7[0][0]                    \n",
      "                                                                 input_8[0][0]                    \n",
      "                                                                 input_9[0][0]                    \n",
      "                                                                 input_10[0][0]                   \n",
      "                                                                 input_11[0][0]                   \n",
      "                                                                 input_12[0][0]                   \n",
      "__________________________________________________________________________________________________\n",
      "graph_pool_1 (GraphPool)        (None, 64)           0           graph_conv_1[0][0]               \n",
      "                                                                 input_14[0][0]                   \n",
      "                                                                 input_15[0][0]                   \n",
      "                                                                 input_16[0][0]                   \n",
      "                                                                 input_17[0][0]                   \n",
      "                                                                 input_18[0][0]                   \n",
      "                                                                 input_19[0][0]                   \n",
      "                                                                 input_20[0][0]                   \n",
      "                                                                 input_21[0][0]                   \n",
      "                                                                 input_22[0][0]                   \n",
      "                                                                 input_23[0][0]                   \n",
      "                                                                 input_24[0][0]                   \n",
      "__________________________________________________________________________________________________\n",
      "dense (Dense)                   (None, 128)          8320        graph_pool[0][0]                 \n",
      "__________________________________________________________________________________________________\n",
      "dense_1 (Dense)                 (None, 128)          8320        graph_pool_1[0][0]               \n",
      "__________________________________________________________________________________________________\n",
      "graph_gather (GraphGather)      (1, 256)             0           dense[0][0]                      \n",
      "__________________________________________________________________________________________________\n",
      "graph_gather_1 (GraphGather)    (1, 256)             0           dense_1[0][0]                    \n",
      "__________________________________________________________________________________________________\n",
      "add (Add)                       (1, 256)             0           graph_gather[0][0]               \n",
      "                                                                 graph_gather_1[0][0]             \n",
      "__________________________________________________________________________________________________\n",
      "dense_2 (Dense)                 (1, 64)              16448       add[0][0]                        \n",
      "==================================================================================================\n",
      "Total params: 84,160\n",
      "Trainable params: 84,160\n",
      "Non-trainable params: 0\n",
      "__________________________________________________________________________________________________\n"
     ]
    }
   ],
   "source": [
    "from rlvs.network.graph_layer import GraphConv, GraphPool, GraphGather\n",
    "from tensorflow.keras.layers import Input, Dense, add\n",
    "from tensorflow.keras.models import Model\n",
    "\n",
    "# first molecule inputs\n",
    "features_input_1 = Input(shape=(None,mol.n_feat,), batch_size=1)\n",
    "degree_slice_input_1 = Input(shape=(11,2), dtype=tf.int32, batch_size=1)\n",
    "deg_adjs_input_1 = []\n",
    "for i in range(10):\n",
    "    deg_adjs_input_1.append(Input(shape=(None,None,), dtype=tf.int32, batch_size=1))\n",
    "ip_1 = [features_input_1, degree_slice_input_1] + deg_adjs_input_1\n",
    "\n",
    "# first molecule convolution\n",
    "graph_layer_1 = GraphConv(out_channel=64, activation_fn=tf.nn.relu)(ip_1)\n",
    "gp_in_1 = [graph_layer_1, degree_slice_input_1] + deg_adjs_input_1\n",
    "\n",
    "# first molecule pooling (analogous to max pooling)\n",
    "graph_pool_1 = GraphPool()(gp_in_1)\n",
    "dense_layer_1 = Dense(128, activation=\"relu\")(graph_pool_1)\n",
    "\n",
    "# first molecule gather node level features into molecule level features\n",
    "graph_gather_layer_1 = GraphGather(activation_fn=tf.nn.relu)(dense_layer_1)\n",
    "\n",
    "mol1_model = Model(inputs=ip_1, outputs=graph_gather_layer_1)\n",
    "\n",
    "# second molecule inputs\n",
    "features_input_2 = Input(shape=(None,mol.n_feat,), batch_size=1)\n",
    "degree_slice_input_2 = Input(shape=(11,2), dtype=tf.int32, batch_size=1)\n",
    "deg_adjs_input_2 = []\n",
    "for i in range(10):\n",
    "    deg_adjs_input_2.append(Input(shape=(None,None,), dtype=tf.int32, batch_size=1))\n",
    "ip_2 = [features_input_2, degree_slice_input_2] + deg_adjs_input_2\n",
    "\n",
    "# second molecule convolution\n",
    "graph_layer_2 = GraphConv(out_channel=64, activation_fn=tf.nn.relu)(ip_2)\n",
    "gp_in_2 = [graph_layer_2, degree_slice_input_2] + deg_adjs_input_2\n",
    "\n",
    "# second molecule pooling (analogous to max pooling)\n",
    "graph_pool_2 = GraphPool()(gp_in_2)\n",
    "dense_layer_2 = Dense(128, activation=\"relu\")(graph_pool_2)\n",
    "\n",
    "# second molecule gather node level features into molecule level features\n",
    "graph_gather_layer_2 = GraphGather(activation_fn=tf.nn.relu)(dense_layer_2)\n",
    "\n",
    "mol2_model = Model(inputs=ip_2, outputs=graph_gather_layer_2)\n",
    "\n",
    "# combine molecule1 and molecule2 feature vectors\n",
    "#TODO: is \"add\" the correct operation?\n",
    "combination_layer = add([mol1_model.output, mol2_model.output])\n",
    "combined_dense_layer = Dense(64, activation=\"relu\")(combination_layer)\n",
    "\n",
    "# define full model\n",
    "m = Model([ip_1, ip_2], combined_dense_layer)\n",
    "m.compile()\n",
    "m.summary()"
   ]
  },
  {
   "cell_type": "markdown",
   "metadata": {},
   "source": [
    "### Forward run of test data through model "
   ]
  },
  {
   "cell_type": "code",
   "execution_count": 11,
   "metadata": {},
   "outputs": [],
   "source": [
    "o = m(inputs)"
   ]
  },
  {
   "cell_type": "code",
   "execution_count": 12,
   "metadata": {},
   "outputs": [
    {
     "data": {
      "text/plain": [
       "<tf.Tensor: shape=(1, 64), dtype=float32, numpy=\n",
       "array([[  545.26935,     0.     ,     0.     ,  3791.2192 ,  2360.0024 ,\n",
       "         9495.732  ,  1209.4473 ,  4813.2646 ,     0.     ,   789.11066,\n",
       "          684.5331 ,   826.39307,  7852.6924 ,  3336.8691 ,     0.     ,\n",
       "            0.     ,  5453.1475 ,     0.     ,     0.     ,  2616.227  ,\n",
       "            0.     ,  4508.199  ,  3329.6023 ,  6843.436  ,     0.     ,\n",
       "         2942.189  ,     0.     ,     0.     ,   386.92505,     0.     ,\n",
       "         5114.6855 ,  5607.7563 , 10091.157  ,   925.6692 ,     0.     ,\n",
       "         3731.1091 ,     0.     ,  8693.792  ,     0.     ,  1674.274  ,\n",
       "            0.     ,  1856.3945 ,   466.98758,     0.     ,     0.     ,\n",
       "         2826.5874 ,  6300.3926 ,     0.     ,  1114.1597 ,  4391.5474 ,\n",
       "            0.     ,  3172.9285 ,     0.     ,     0.     ,     0.     ,\n",
       "         2555.6826 ,     0.     ,     0.     ,     0.     ,     0.     ,\n",
       "            0.     ,  1317.4073 ,  2840.6704 ,     0.     ]],\n",
       "      dtype=float32)>"
      ]
     },
     "execution_count": 12,
     "metadata": {},
     "output_type": "execute_result"
    }
   ],
   "source": [
    "o"
   ]
  },
  {
   "cell_type": "code",
   "execution_count": 13,
   "metadata": {},
   "outputs": [
    {
     "data": {
      "text/plain": [
       "array([[  545.26935,     0.     ,     0.     ,  3791.2192 ,  2360.0024 ,\n",
       "         9495.732  ,  1209.4473 ,  4813.2646 ,     0.     ,   789.11066,\n",
       "          684.5331 ,   826.39307,  7852.6924 ,  3336.8691 ,     0.     ,\n",
       "            0.     ,  5453.1475 ,     0.     ,     0.     ,  2616.227  ,\n",
       "            0.     ,  4508.199  ,  3329.6023 ,  6843.436  ,     0.     ,\n",
       "         2942.189  ,     0.     ,     0.     ,   386.92505,     0.     ,\n",
       "         5114.6855 ,  5607.7563 , 10091.157  ,   925.6692 ,     0.     ,\n",
       "         3731.1091 ,     0.     ,  8693.792  ,     0.     ,  1674.274  ,\n",
       "            0.     ,  1856.3945 ,   466.98758,     0.     ,     0.     ,\n",
       "         2826.5874 ,  6300.3926 ,     0.     ,  1114.1597 ,  4391.5474 ,\n",
       "            0.     ,  3172.9285 ,     0.     ,     0.     ,     0.     ,\n",
       "         2555.6826 ,     0.     ,     0.     ,     0.     ,     0.     ,\n",
       "            0.     ,  1317.4073 ,  2840.6704 ,     0.     ]],\n",
       "      dtype=float32)"
      ]
     },
     "execution_count": 13,
     "metadata": {},
     "output_type": "execute_result"
    }
   ],
   "source": [
    "m.predict(inputs)"
   ]
  }
 ],
 "metadata": {
  "kernelspec": {
   "display_name": "Python 3",
   "language": "python",
   "name": "python3"
  },
  "language_info": {
   "codemirror_mode": {
    "name": "ipython",
    "version": 3
   },
   "file_extension": ".py",
   "mimetype": "text/x-python",
   "name": "python",
   "nbconvert_exporter": "python",
   "pygments_lexer": "ipython3",
   "version": "3.6.11"
  }
 },
 "nbformat": 4,
 "nbformat_minor": 4
}
